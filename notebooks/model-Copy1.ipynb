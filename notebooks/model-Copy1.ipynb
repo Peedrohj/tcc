{
 "cells": [
  {
   "cell_type": "code",
   "execution_count": 2,
   "metadata": {},
   "outputs": [],
   "source": [
    "## Imports"
   ]
  },
  {
   "cell_type": "code",
   "execution_count": 2,
   "metadata": {},
   "outputs": [],
   "source": [
    "import numpy as np\n",
    "import pandas as pd\n",
    "from sklearn.model_selection import train_test_split, GridSearchCV\n",
    "import lightgbm as lgb\n",
    "import matplotlib.pyplot as plt\n",
    "from sklearn.metrics import mean_squared_error, mean_absolute_error, r2_score\n",
    "from sklearn.multioutput import MultiOutputRegressor"
   ]
  },
  {
   "cell_type": "code",
   "execution_count": 4,
   "metadata": {},
   "outputs": [],
   "source": [
    "## Load data"
   ]
  },
  {
   "cell_type": "code",
   "execution_count": 3,
   "metadata": {},
   "outputs": [],
   "source": [
    "df = pd.read_csv(\"../data/datasets/2021-12-03 04:24:21.588262.csv\", header=None)"
   ]
  },
  {
   "cell_type": "code",
   "execution_count": 4,
   "metadata": {},
   "outputs": [],
   "source": [
    "df.fillna(0, inplace=True)"
   ]
  },
  {
   "cell_type": "code",
   "execution_count": 5,
   "metadata": {},
   "outputs": [
    {
     "data": {
      "text/plain": [
       "(400, 1044)"
      ]
     },
     "execution_count": 5,
     "metadata": {},
     "output_type": "execute_result"
    }
   ],
   "source": [
    "df.shape"
   ]
  },
  {
   "cell_type": "code",
   "execution_count": 6,
   "metadata": {},
   "outputs": [],
   "source": [
    "## Extract data"
   ]
  },
  {
   "cell_type": "code",
   "execution_count": 7,
   "metadata": {},
   "outputs": [],
   "source": [
    "ANTIBIOTIC_LIST = ['Amikacin', 'Ampicillin', 'Ampicillin/Sulbactam', 'Aztreonam', 'Cefazolin', 'Cefepime', 'Cefoxitin', 'Ceftazidime', 'Ceftriaxone', 'Cefuroxime sodium',\n",
    "                   'Ciprofloxacin', 'Gentamicin', 'Imipenem', 'Levofloxacin', 'Meropenem', 'Nitrofurantoin', 'Piperacillin/Tazobactam', 'Tetracycline', 'Tobramycin', 'Trimethoprim/Sulfamethoxazole']\n"
   ]
  },
  {
   "cell_type": "code",
   "execution_count": 8,
   "metadata": {},
   "outputs": [],
   "source": [
    "params = {'colsample_bytree': 0.7, 'max_depth': 15, 'min_split_gain': 0.4, 'n_estimators': 400, 'num_leaves': 50, 'reg_alpha': 1.3, 'reg_lambda': 1.1, 'subsample': 0.9, 'subsample_freq': 20}"
   ]
  },
  {
   "cell_type": "code",
   "execution_count": 9,
   "metadata": {},
   "outputs": [],
   "source": [
    "param_grid = {\n",
    "    'n_estimators': [400, 700, 1000],\n",
    "    'colsample_bytree': [0.7, 0.8],\n",
    "    'max_depth': [15,20,25],\n",
    "    'num_leaves': [50, 100, 200],\n",
    "    'reg_alpha': [1.1, 1.2, 1.3],\n",
    "    'reg_lambda': [1.1, 1.2, 1.3],\n",
    "    'min_split_gain': [0.3, 0.4],\n",
    "    'subsample': [0.7, 0.8, 0.9],\n",
    "    'subsample_freq': [20]\n",
    "}\n"
   ]
  },
  {
   "cell_type": "code",
   "execution_count": 15,
   "metadata": {},
   "outputs": [
    {
     "data": {
      "text/plain": [
       "[{'name': 'Trimethoprim/Sulfamethoxazole',\n",
       "  'mse': 1.868773725365026,\n",
       "  'mae': 1.057192978100121,\n",
       "  'r2': -0.002060757596588081},\n",
       " {'name': 'Tobramycin',\n",
       "  'mse': 15.215157400642825,\n",
       "  'mae': 3.007496818438285,\n",
       "  'r2': 0.5842064246987198},\n",
       " {'name': 'Tetracycline',\n",
       "  'mse': 26.03370034548165,\n",
       "  'mae': 4.1748590022730045,\n",
       "  'r2': 0.27839511203709644},\n",
       " {'name': 'Piperacillin/Tazobactam',\n",
       "  'mse': 1379.42821654932,\n",
       "  'mae': 25.761185860026043,\n",
       "  'r2': 0.3987277021032969},\n",
       " {'name': 'Nitrofurantoin',\n",
       "  'mse': 4567.236728463197,\n",
       "  'mae': 59.16233814006517,\n",
       "  'r2': -0.21643907070235668},\n",
       " {'name': 'Meropenem',\n",
       "  'mse': 7.928262027605476,\n",
       "  'mae': 1.6625317433362445,\n",
       "  'r2': 0.8107763179918606},\n",
       " {'name': 'Levofloxacin',\n",
       "  'mse': 1.684862474602032,\n",
       "  'mae': 0.7655098104592416,\n",
       "  'r2': 0.686034219754267},\n",
       " {'name': 'Imipenem',\n",
       "  'mse': 8.827109845722472,\n",
       "  'mae': 1.9295695015915981,\n",
       "  'r2': 0.7702731704621748},\n",
       " {'name': 'Gentamicin',\n",
       "  'mse': 27.045976420154844,\n",
       "  'mae': 4.129745419912086,\n",
       "  'r2': 0.38652320814211094},\n",
       " {'name': 'Ciprofloxacin',\n",
       "  'mse': 0.22186329261891044,\n",
       "  'mae': 0.20847755844905796,\n",
       "  'r2': 0.6585897877468077},\n",
       " {'name': 'Cefuroxime sodium',\n",
       "  'mse': 2.191587022517132,\n",
       "  'mae': 0.5587137969476478,\n",
       "  'r2': -0.03593924383687952},\n",
       " {'name': 'Ceftriaxone',\n",
       "  'mse': 117.9561176626983,\n",
       "  'mae': 5.807813626817749,\n",
       "  'r2': 0.5279153582577576},\n",
       " {'name': 'Ceftazidime',\n",
       "  'mse': 33.60860385752891,\n",
       "  'mae': 3.4883767492811355,\n",
       "  'r2': 0.37818440642738504},\n",
       " {'name': 'Cefoxitin',\n",
       "  'mse': 73.63924643260276,\n",
       "  'mae': 6.180052014668839,\n",
       "  'r2': 0.47148444732938466},\n",
       " {'name': 'Cefepime',\n",
       "  'mse': 171.15353001092075,\n",
       "  'mae': 11.399841490224281,\n",
       "  'r2': 0.16372680726058841},\n",
       " {'name': 'Cefazolin',\n",
       "  'mse': 9.72603457978708,\n",
       "  'mae': 1.1130546452276953,\n",
       "  'r2': 0.2601275359810351},\n",
       " {'name': 'Aztreonam',\n",
       "  'mse': 104.28761776401785,\n",
       "  'mae': 6.756334120069632,\n",
       "  'r2': 0.05410677973030664},\n",
       " {'name': 'Ampicillin/Sulbactam',\n",
       "  'mse': 11.719941402528349,\n",
       "  'mae': 1.9073254167162648,\n",
       "  'r2': 0.26423358940600494},\n",
       " {'name': 'Ampicillin', 'mse': 0.0, 'mae': 0.0, 'r2': 1.0},\n",
       " {'name': 'Amikacin',\n",
       "  'mse': 94.85938665005898,\n",
       "  'mae': 6.060434817709251,\n",
       "  'r2': 0.55796201648034}]"
      ]
     },
     "execution_count": 15,
     "metadata": {},
     "output_type": "execute_result"
    }
   ],
   "source": [
    "results"
   ]
  },
  {
   "cell_type": "code",
   "execution_count": 27,
   "metadata": {},
   "outputs": [
    {
     "data": {
      "text/plain": [
       "[{'name': 'Trimethoprim/Sulfamethoxazole',\n",
       "  'mse': 1.649661309474234,\n",
       "  'mae': 0.9704840049518665,\n",
       "  'r2': 0.25550617463064706},\n",
       " {'name': 'Tobramycin',\n",
       "  'mse': 14.995343593655518,\n",
       "  'mae': 3.033213251237812,\n",
       "  'r2': 0.5966101974447044},\n",
       " {'name': 'Tetracycline',\n",
       "  'mse': 27.608943733859793,\n",
       "  'mae': 4.469331724307332,\n",
       "  'r2': 0.23661320408071296},\n",
       " {'name': 'Piperacillin/Tazobactam',\n",
       "  'mse': 1601.9756286357558,\n",
       "  'mae': 28.033284746935845,\n",
       "  'r2': 0.354134031424433},\n",
       " {'name': 'Nitrofurantoin',\n",
       "  'mse': 4241.319527372664,\n",
       "  'mae': 54.857381076878966,\n",
       "  'r2': -0.13323679394572596},\n",
       " {'name': 'Meropenem',\n",
       "  'mse': 164.56558366089928,\n",
       "  'mae': 4.275839356255748,\n",
       "  'r2': 0.42860150573305933},\n",
       " {'name': 'Levofloxacin',\n",
       "  'mse': 3.1130366149806292,\n",
       "  'mae': 0.9550121192998478,\n",
       "  'r2': 0.5294961243574345},\n",
       " {'name': 'Imipenem',\n",
       "  'mse': 57.72420401667318,\n",
       "  'mae': 3.5438028001574526,\n",
       "  'r2': 0.6450761177817961},\n",
       " {'name': 'Gentamicin',\n",
       "  'mse': 148.1299285821507,\n",
       "  'mae': 6.183836841817307,\n",
       "  'r2': 0.20849359725539718},\n",
       " {'name': 'Ciprofloxacin',\n",
       "  'mse': 5.446364141982077,\n",
       "  'mae': 0.9527958048097215,\n",
       "  'r2': -0.6765297729154582},\n",
       " {'name': 'Cefuroxime sodium',\n",
       "  'mse': 5.433688980240223,\n",
       "  'mae': 1.310203210821735,\n",
       "  'r2': 0.842590169137181},\n",
       " {'name': 'Ceftriaxone',\n",
       "  'mse': 128.58511883718128,\n",
       "  'mae': 6.351576359964336,\n",
       "  'r2': 0.5963000987748522},\n",
       " {'name': 'Ceftazidime',\n",
       "  'mse': 47.55095385564855,\n",
       "  'mae': 4.14727463822729,\n",
       "  'r2': 0.46827111748898487},\n",
       " {'name': 'Cefoxitin',\n",
       "  'mse': 85.0202957880194,\n",
       "  'mae': 6.676230979961695,\n",
       "  'r2': 0.37631698185664453},\n",
       " {'name': 'Cefepime',\n",
       "  'mse': 179.1007539793621,\n",
       "  'mae': 11.614039509333384,\n",
       "  'r2': 0.1181779442487414},\n",
       " {'name': 'Cefazolin',\n",
       "  'mse': 46.09874487868724,\n",
       "  'mae': 2.4303087092268973,\n",
       "  'r2': -0.1987213692440004},\n",
       " {'name': 'Aztreonam',\n",
       "  'mse': 99.96666659253964,\n",
       "  'mae': 6.431132143940139,\n",
       "  'r2': 0.056680926718612024},\n",
       " {'name': 'Ampicillin/Sulbactam',\n",
       "  'mse': 33.11830347534234,\n",
       "  'mae': 2.736461534019504,\n",
       "  'r2': -0.00855130492096956},\n",
       " {'name': 'Ampicillin',\n",
       "  'mse': 7.457436458441075,\n",
       "  'mae': 0.5823260321301682,\n",
       "  'r2': 0.06096516232608318},\n",
       " {'name': 'Amikacin',\n",
       "  'mse': 101.35152110134818,\n",
       "  'mae': 6.42171372557642,\n",
       "  'r2': 0.546448969792491}]"
      ]
     },
     "execution_count": 27,
     "metadata": {},
     "output_type": "execute_result"
    }
   ],
   "source": [
    "results"
   ]
  },
  {
   "cell_type": "code",
   "execution_count": null,
   "metadata": {},
   "outputs": [],
   "source": []
  },
  {
   "cell_type": "code",
   "execution_count": 16,
   "metadata": {},
   "outputs": [],
   "source": [
    "results = []\n",
    "\n",
    "for index, value in enumerate(ANTIBIOTIC_LIST[::-1]):\n",
    "    index_name = int((len(df.columns) - 1) - index)\n",
    "\n",
    "    y = df[index_name]\n",
    "    x = df.drop(index_name, axis=1)\n",
    "    \n",
    "    x_train, x_test, y_train, y_test = train_test_split(x, y, test_size = 0.3, random_state = 42, shuffle=False)\n",
    "\n",
    "    model = lgb.LGBMRegressor(**params)\n",
    "    model.fit(x_train, y_train)\n",
    "    \n",
    "    y_pred=model.predict(x_test)\n",
    "    \n",
    "    mse, mae, r2 = get_metrics(y_test, y_pred)\n",
    "    results.append({\n",
    "        \"name\": value, \n",
    "         \"mse\": mse, \n",
    "         \"mae\": mae, \n",
    "         \"r2\": r2\n",
    "    })"
   ]
  },
  {
   "cell_type": "code",
   "execution_count": 24,
   "metadata": {},
   "outputs": [
    {
     "name": "stdout",
     "output_type": "stream",
     "text": [
      "Fitting 5 folds for each of 2916 candidates, totalling 14580 fits\n"
     ]
    },
    {
     "name": "stderr",
     "output_type": "stream",
     "text": [
      "[Parallel(n_jobs=-1)]: Using backend LokyBackend with 12 concurrent workers.\n",
      "[Parallel(n_jobs=-1)]: Done  17 tasks      | elapsed:   13.6s\n",
      "[Parallel(n_jobs=-1)]: Done 138 tasks      | elapsed:  1.1min\n",
      "/opt/conda/lib/python3.8/site-packages/joblib/externals/loky/process_executor.py:688: UserWarning: A worker stopped while some jobs were given to the executor. This can be caused by a too short worker timeout or by a memory leak.\n",
      "  warnings.warn(\n",
      "[Parallel(n_jobs=-1)]: Done 341 tasks      | elapsed:  2.6min\n",
      "[Parallel(n_jobs=-1)]: Done 624 tasks      | elapsed:  5.1min\n",
      "[Parallel(n_jobs=-1)]: Done 989 tasks      | elapsed:  9.1min\n",
      "[Parallel(n_jobs=-1)]: Done 1434 tasks      | elapsed: 13.2min\n",
      "[Parallel(n_jobs=-1)]: Done 1961 tasks      | elapsed: 17.7min\n",
      "[Parallel(n_jobs=-1)]: Done 2568 tasks      | elapsed: 23.9min\n",
      "[Parallel(n_jobs=-1)]: Done 3257 tasks      | elapsed: 30.0min\n",
      "[Parallel(n_jobs=-1)]: Done 4026 tasks      | elapsed: 37.2min\n",
      "[Parallel(n_jobs=-1)]: Done 4877 tasks      | elapsed: 46.1min\n",
      "[Parallel(n_jobs=-1)]: Done 5808 tasks      | elapsed: 54.4min\n",
      "[Parallel(n_jobs=-1)]: Done 6821 tasks      | elapsed: 63.4min\n",
      "[Parallel(n_jobs=-1)]: Done 7914 tasks      | elapsed: 74.2min\n",
      "[Parallel(n_jobs=-1)]: Done 9089 tasks      | elapsed: 86.3min\n",
      "[Parallel(n_jobs=-1)]: Done 10344 tasks      | elapsed: 99.3min\n",
      "[Parallel(n_jobs=-1)]: Done 11681 tasks      | elapsed: 113.1min\n",
      "[Parallel(n_jobs=-1)]: Done 13098 tasks      | elapsed: 128.3min\n",
      "[Parallel(n_jobs=-1)]: Done 14580 out of 14580 | elapsed: 144.1min finished\n"
     ]
    },
    {
     "name": "stdout",
     "output_type": "stream",
     "text": [
      "Fitting 5 folds for each of 2916 candidates, totalling 14580 fits\n"
     ]
    },
    {
     "name": "stderr",
     "output_type": "stream",
     "text": [
      "[Parallel(n_jobs=-1)]: Using backend LokyBackend with 12 concurrent workers.\n",
      "[Parallel(n_jobs=-1)]: Done  17 tasks      | elapsed:   28.5s\n",
      "[Parallel(n_jobs=-1)]: Done 138 tasks      | elapsed:  2.8min\n",
      "[Parallel(n_jobs=-1)]: Done 341 tasks      | elapsed:  6.8min\n",
      "[Parallel(n_jobs=-1)]: Done 624 tasks      | elapsed: 13.2min\n",
      "[Parallel(n_jobs=-1)]: Done 989 tasks      | elapsed: 22.2min\n",
      "[Parallel(n_jobs=-1)]: Done 1434 tasks      | elapsed: 31.9min\n",
      "[Parallel(n_jobs=-1)]: Done 1961 tasks      | elapsed: 42.6min\n",
      "[Parallel(n_jobs=-1)]: Done 2568 tasks      | elapsed: 56.2min\n",
      "[Parallel(n_jobs=-1)]: Done 3257 tasks      | elapsed: 71.6min\n",
      "[Parallel(n_jobs=-1)]: Done 4026 tasks      | elapsed: 88.8min\n",
      "[Parallel(n_jobs=-1)]: Done 4877 tasks      | elapsed: 108.0min\n",
      "[Parallel(n_jobs=-1)]: Done 5808 tasks      | elapsed: 128.8min\n",
      "[Parallel(n_jobs=-1)]: Done 6821 tasks      | elapsed: 150.4min\n",
      "[Parallel(n_jobs=-1)]: Done 7914 tasks      | elapsed: 175.6min\n",
      "[Parallel(n_jobs=-1)]: Done 9089 tasks      | elapsed: 203.8min\n",
      "[Parallel(n_jobs=-1)]: Done 10344 tasks      | elapsed: 233.3min\n",
      "[Parallel(n_jobs=-1)]: Done 11681 tasks      | elapsed: 264.8min\n",
      "[Parallel(n_jobs=-1)]: Done 13098 tasks      | elapsed: 299.1min\n",
      "[Parallel(n_jobs=-1)]: Done 14580 out of 14580 | elapsed: 333.7min finished\n"
     ]
    },
    {
     "name": "stdout",
     "output_type": "stream",
     "text": [
      "Fitting 5 folds for each of 2916 candidates, totalling 14580 fits\n"
     ]
    },
    {
     "name": "stderr",
     "output_type": "stream",
     "text": [
      "[Parallel(n_jobs=-1)]: Using backend LokyBackend with 12 concurrent workers.\n",
      "[Parallel(n_jobs=-1)]: Done  17 tasks      | elapsed:   28.0s\n",
      "[Parallel(n_jobs=-1)]: Done 138 tasks      | elapsed:  2.8min\n",
      "[Parallel(n_jobs=-1)]: Done 341 tasks      | elapsed:  6.7min\n",
      "[Parallel(n_jobs=-1)]: Done 624 tasks      | elapsed: 13.1min\n",
      "[Parallel(n_jobs=-1)]: Done 989 tasks      | elapsed: 22.6min\n",
      "[Parallel(n_jobs=-1)]: Done 1434 tasks      | elapsed: 32.3min\n",
      "[Parallel(n_jobs=-1)]: Done 1961 tasks      | elapsed: 43.1min\n",
      "[Parallel(n_jobs=-1)]: Done 2568 tasks      | elapsed: 56.7min\n",
      "[Parallel(n_jobs=-1)]: Done 3257 tasks      | elapsed: 72.0min\n",
      "[Parallel(n_jobs=-1)]: Done 4026 tasks      | elapsed: 89.0min\n",
      "[Parallel(n_jobs=-1)]: Done 4877 tasks      | elapsed: 108.3min\n",
      "[Parallel(n_jobs=-1)]: Done 5808 tasks      | elapsed: 129.1min\n",
      "[Parallel(n_jobs=-1)]: Done 6821 tasks      | elapsed: 150.9min\n",
      "[Parallel(n_jobs=-1)]: Done 7914 tasks      | elapsed: 176.5min\n",
      "[Parallel(n_jobs=-1)]: Done 9089 tasks      | elapsed: 205.3min\n",
      "[Parallel(n_jobs=-1)]: Done 10344 tasks      | elapsed: 235.7min\n",
      "[Parallel(n_jobs=-1)]: Done 11681 tasks      | elapsed: 268.4min\n",
      "[Parallel(n_jobs=-1)]: Done 13098 tasks      | elapsed: 304.2min\n",
      "[Parallel(n_jobs=-1)]: Done 14580 out of 14580 | elapsed: 340.6min finished\n"
     ]
    },
    {
     "name": "stdout",
     "output_type": "stream",
     "text": [
      "Fitting 5 folds for each of 2916 candidates, totalling 14580 fits\n"
     ]
    },
    {
     "name": "stderr",
     "output_type": "stream",
     "text": [
      "[Parallel(n_jobs=-1)]: Using backend LokyBackend with 12 concurrent workers.\n",
      "[Parallel(n_jobs=-1)]: Done  17 tasks      | elapsed:   35.5s\n",
      "[Parallel(n_jobs=-1)]: Done 138 tasks      | elapsed:  3.7min\n",
      "[Parallel(n_jobs=-1)]: Done 341 tasks      | elapsed:  9.3min\n",
      "[Parallel(n_jobs=-1)]: Done 624 tasks      | elapsed: 21.0min\n",
      "[Parallel(n_jobs=-1)]: Done 989 tasks      | elapsed: 40.4min\n",
      "[Parallel(n_jobs=-1)]: Done 1434 tasks      | elapsed: 59.9min\n",
      "[Parallel(n_jobs=-1)]: Done 1961 tasks      | elapsed: 80.3min\n",
      "[Parallel(n_jobs=-1)]: Done 2568 tasks      | elapsed: 110.8min\n",
      "[Parallel(n_jobs=-1)]: Done 3257 tasks      | elapsed: 137.2min\n",
      "[Parallel(n_jobs=-1)]: Done 4026 tasks      | elapsed: 170.8min\n",
      "[Parallel(n_jobs=-1)]: Done 4877 tasks      | elapsed: 214.1min\n",
      "[Parallel(n_jobs=-1)]: Done 5808 tasks      | elapsed: 250.9min\n",
      "[Parallel(n_jobs=-1)]: Done 6821 tasks      | elapsed: 293.1min\n",
      "[Parallel(n_jobs=-1)]: Done 7914 tasks      | elapsed: 343.2min\n",
      "[Parallel(n_jobs=-1)]: Done 9089 tasks      | elapsed: 400.3min\n",
      "[Parallel(n_jobs=-1)]: Done 10344 tasks      | elapsed: 460.6min\n",
      "[Parallel(n_jobs=-1)]: Done 11681 tasks      | elapsed: 525.5min\n",
      "[Parallel(n_jobs=-1)]: Done 13098 tasks      | elapsed: 596.1min\n",
      "[Parallel(n_jobs=-1)]: Done 14580 out of 14580 | elapsed: 671.6min finished\n"
     ]
    },
    {
     "name": "stdout",
     "output_type": "stream",
     "text": [
      "Fitting 5 folds for each of 2916 candidates, totalling 14580 fits\n"
     ]
    },
    {
     "name": "stderr",
     "output_type": "stream",
     "text": [
      "[Parallel(n_jobs=-1)]: Using backend LokyBackend with 12 concurrent workers.\n",
      "[Parallel(n_jobs=-1)]: Done  17 tasks      | elapsed:   34.4s\n",
      "[Parallel(n_jobs=-1)]: Done 138 tasks      | elapsed:  3.8min\n",
      "[Parallel(n_jobs=-1)]: Done 341 tasks      | elapsed:  9.3min\n",
      "[Parallel(n_jobs=-1)]: Done 624 tasks      | elapsed: 21.3min\n",
      "[Parallel(n_jobs=-1)]: Done 989 tasks      | elapsed: 41.4min\n",
      "[Parallel(n_jobs=-1)]: Done 1434 tasks      | elapsed: 61.5min\n",
      "[Parallel(n_jobs=-1)]: Done 1961 tasks      | elapsed: 82.4min\n",
      "[Parallel(n_jobs=-1)]: Done 2568 tasks      | elapsed: 114.4min\n",
      "[Parallel(n_jobs=-1)]: Done 3257 tasks      | elapsed: 141.8min\n",
      "[Parallel(n_jobs=-1)]: Done 4026 tasks      | elapsed: 176.7min\n",
      "[Parallel(n_jobs=-1)]: Done 4877 tasks      | elapsed: 222.4min\n",
      "[Parallel(n_jobs=-1)]: Done 5808 tasks      | elapsed: 260.9min\n",
      "[Parallel(n_jobs=-1)]: Done 6821 tasks      | elapsed: 305.0min\n",
      "[Parallel(n_jobs=-1)]: Done 7914 tasks      | elapsed: 357.4min\n",
      "[Parallel(n_jobs=-1)]: Done 9089 tasks      | elapsed: 417.1min\n",
      "[Parallel(n_jobs=-1)]: Done 10344 tasks      | elapsed: 480.7min\n",
      "[Parallel(n_jobs=-1)]: Done 11681 tasks      | elapsed: 549.5min\n",
      "[Parallel(n_jobs=-1)]: Done 13098 tasks      | elapsed: 624.6min\n",
      "[Parallel(n_jobs=-1)]: Done 14580 out of 14580 | elapsed: 705.1min finished\n"
     ]
    },
    {
     "name": "stdout",
     "output_type": "stream",
     "text": [
      "Fitting 5 folds for each of 2916 candidates, totalling 14580 fits\n"
     ]
    },
    {
     "name": "stderr",
     "output_type": "stream",
     "text": [
      "[Parallel(n_jobs=-1)]: Using backend LokyBackend with 12 concurrent workers.\n",
      "[Parallel(n_jobs=-1)]: Done  17 tasks      | elapsed:   33.1s\n",
      "[Parallel(n_jobs=-1)]: Done 138 tasks      | elapsed:  3.4min\n",
      "[Parallel(n_jobs=-1)]: Done 341 tasks      | elapsed:  8.4min\n",
      "[Parallel(n_jobs=-1)]: Done 624 tasks      | elapsed: 18.3min\n",
      "[Parallel(n_jobs=-1)]: Done 989 tasks      | elapsed: 34.0min\n",
      "[Parallel(n_jobs=-1)]: Done 1434 tasks      | elapsed: 49.9min\n",
      "[Parallel(n_jobs=-1)]: Done 1961 tasks      | elapsed: 66.8min\n",
      "[Parallel(n_jobs=-1)]: Done 2568 tasks      | elapsed: 91.0min\n",
      "[Parallel(n_jobs=-1)]: Done 3257 tasks      | elapsed: 114.1min\n",
      "[Parallel(n_jobs=-1)]: Done 4026 tasks      | elapsed: 142.0min\n",
      "[Parallel(n_jobs=-1)]: Done 4877 tasks      | elapsed: 176.8min\n",
      "[Parallel(n_jobs=-1)]: Done 5808 tasks      | elapsed: 208.5min\n",
      "[Parallel(n_jobs=-1)]: Done 6821 tasks      | elapsed: 244.0min\n",
      "[Parallel(n_jobs=-1)]: Done 7914 tasks      | elapsed: 285.8min\n",
      "[Parallel(n_jobs=-1)]: Done 9089 tasks      | elapsed: 334.3min\n",
      "[Parallel(n_jobs=-1)]: Done 10344 tasks      | elapsed: 385.6min\n",
      "[Parallel(n_jobs=-1)]: Done 11681 tasks      | elapsed: 440.7min\n",
      "[Parallel(n_jobs=-1)]: Done 13098 tasks      | elapsed: 500.6min\n",
      "[Parallel(n_jobs=-1)]: Done 14580 out of 14580 | elapsed: 563.7min finished\n"
     ]
    },
    {
     "name": "stdout",
     "output_type": "stream",
     "text": [
      "Fitting 5 folds for each of 2916 candidates, totalling 14580 fits\n"
     ]
    },
    {
     "name": "stderr",
     "output_type": "stream",
     "text": [
      "[Parallel(n_jobs=-1)]: Using backend LokyBackend with 12 concurrent workers.\n",
      "[Parallel(n_jobs=-1)]: Done  17 tasks      | elapsed:   17.8s\n",
      "[Parallel(n_jobs=-1)]: Done 138 tasks      | elapsed:  1.8min\n",
      "[Parallel(n_jobs=-1)]: Done 341 tasks      | elapsed:  4.4min\n",
      "[Parallel(n_jobs=-1)]: Done 624 tasks      | elapsed:  8.5min\n",
      "[Parallel(n_jobs=-1)]: Done 989 tasks      | elapsed: 14.5min\n",
      "[Parallel(n_jobs=-1)]: Done 1434 tasks      | elapsed: 21.0min\n",
      "[Parallel(n_jobs=-1)]: Done 1961 tasks      | elapsed: 27.9min\n",
      "[Parallel(n_jobs=-1)]: Done 2568 tasks      | elapsed: 37.3min\n",
      "[Parallel(n_jobs=-1)]: Done 3257 tasks      | elapsed: 47.2min\n",
      "[Parallel(n_jobs=-1)]: Done 4026 tasks      | elapsed: 58.3min\n",
      "[Parallel(n_jobs=-1)]: Done 4877 tasks      | elapsed: 71.1min\n",
      "[Parallel(n_jobs=-1)]: Done 5808 tasks      | elapsed: 84.6min\n",
      "[Parallel(n_jobs=-1)]: Done 6821 tasks      | elapsed: 98.8min\n",
      "[Parallel(n_jobs=-1)]: Done 7914 tasks      | elapsed: 115.5min\n",
      "[Parallel(n_jobs=-1)]: Done 9089 tasks      | elapsed: 134.2min\n",
      "[Parallel(n_jobs=-1)]: Done 10344 tasks      | elapsed: 154.1min\n",
      "[Parallel(n_jobs=-1)]: Done 11681 tasks      | elapsed: 175.3min\n",
      "[Parallel(n_jobs=-1)]: Done 13098 tasks      | elapsed: 200.4min\n",
      "[Parallel(n_jobs=-1)]: Done 14580 out of 14580 | elapsed: 227.2min finished\n"
     ]
    },
    {
     "name": "stdout",
     "output_type": "stream",
     "text": [
      "Fitting 5 folds for each of 2916 candidates, totalling 14580 fits\n"
     ]
    },
    {
     "name": "stderr",
     "output_type": "stream",
     "text": [
      "[Parallel(n_jobs=-1)]: Using backend LokyBackend with 12 concurrent workers.\n",
      "[Parallel(n_jobs=-1)]: Done  17 tasks      | elapsed:   37.9s\n",
      "[Parallel(n_jobs=-1)]: Done 138 tasks      | elapsed:  3.8min\n",
      "/opt/conda/lib/python3.8/site-packages/joblib/externals/loky/process_executor.py:688: UserWarning: A worker stopped while some jobs were given to the executor. This can be caused by a too short worker timeout or by a memory leak.\n",
      "  warnings.warn(\n",
      "[Parallel(n_jobs=-1)]: Done 341 tasks      | elapsed:  9.3min\n",
      "[Parallel(n_jobs=-1)]: Done 624 tasks      | elapsed: 19.9min\n",
      "[Parallel(n_jobs=-1)]: Done 989 tasks      | elapsed: 36.6min\n",
      "[Parallel(n_jobs=-1)]: Done 1434 tasks      | elapsed: 53.4min\n",
      "[Parallel(n_jobs=-1)]: Done 1961 tasks      | elapsed: 70.7min\n",
      "[Parallel(n_jobs=-1)]: Done 2568 tasks      | elapsed: 96.1min\n"
     ]
    },
    {
     "ename": "KeyboardInterrupt",
     "evalue": "",
     "output_type": "error",
     "traceback": [
      "\u001b[0;31m---------------------------------------------------------------------------\u001b[0m",
      "\u001b[0;31mKeyboardInterrupt\u001b[0m                         Traceback (most recent call last)",
      "\u001b[0;32m<ipython-input-24-8e4b97b4bb70>\u001b[0m in \u001b[0;36m<module>\u001b[0;34m\u001b[0m\n\u001b[1;32m      8\u001b[0m \u001b[0;34m\u001b[0m\u001b[0m\n\u001b[1;32m      9\u001b[0m     \u001b[0mx_train\u001b[0m\u001b[0;34m,\u001b[0m \u001b[0mx_test\u001b[0m\u001b[0;34m,\u001b[0m \u001b[0my_train\u001b[0m\u001b[0;34m,\u001b[0m \u001b[0my_test\u001b[0m \u001b[0;34m=\u001b[0m \u001b[0mtrain_test_split\u001b[0m\u001b[0;34m(\u001b[0m\u001b[0mx\u001b[0m\u001b[0;34m,\u001b[0m \u001b[0my\u001b[0m\u001b[0;34m,\u001b[0m \u001b[0mtest_size\u001b[0m \u001b[0;34m=\u001b[0m \u001b[0;36m0.3\u001b[0m\u001b[0;34m,\u001b[0m \u001b[0mrandom_state\u001b[0m \u001b[0;34m=\u001b[0m \u001b[0;36m42\u001b[0m\u001b[0;34m,\u001b[0m \u001b[0mshuffle\u001b[0m\u001b[0;34m=\u001b[0m\u001b[0;32mFalse\u001b[0m\u001b[0;34m)\u001b[0m\u001b[0;34m\u001b[0m\u001b[0;34m\u001b[0m\u001b[0m\n\u001b[0;32m---> 10\u001b[0;31m     gs, pred = algorithm_pipeline(x_train, x_test, y_train, y_test, model, \n\u001b[0m\u001b[1;32m     11\u001b[0m                                  param_grid, cv=5)\n\u001b[1;32m     12\u001b[0m \u001b[0;34m\u001b[0m\u001b[0m\n",
      "\u001b[0;32m<ipython-input-20-6ea295320c2d>\u001b[0m in \u001b[0;36malgorithm_pipeline\u001b[0;34m(X_train_data, X_test_data, y_train_data, y_test_data, model, param_grid, cv, scoring_fit, do_probabilities)\u001b[0m\n\u001b[1;32m     10\u001b[0m         \u001b[0mverbose\u001b[0m\u001b[0;34m=\u001b[0m\u001b[0;36m2\u001b[0m\u001b[0;34m\u001b[0m\u001b[0;34m\u001b[0m\u001b[0m\n\u001b[1;32m     11\u001b[0m     )\n\u001b[0;32m---> 12\u001b[0;31m     \u001b[0mfitted_model\u001b[0m \u001b[0;34m=\u001b[0m \u001b[0mgs\u001b[0m\u001b[0;34m.\u001b[0m\u001b[0mfit\u001b[0m\u001b[0;34m(\u001b[0m\u001b[0mX_train_data\u001b[0m\u001b[0;34m,\u001b[0m \u001b[0my_train_data\u001b[0m\u001b[0;34m)\u001b[0m\u001b[0;34m\u001b[0m\u001b[0;34m\u001b[0m\u001b[0m\n\u001b[0m\u001b[1;32m     13\u001b[0m \u001b[0;34m\u001b[0m\u001b[0m\n\u001b[1;32m     14\u001b[0m     \u001b[0;32mif\u001b[0m \u001b[0mdo_probabilities\u001b[0m\u001b[0;34m:\u001b[0m\u001b[0;34m\u001b[0m\u001b[0;34m\u001b[0m\u001b[0m\n",
      "\u001b[0;32m/opt/conda/lib/python3.8/site-packages/sklearn/utils/validation.py\u001b[0m in \u001b[0;36minner_f\u001b[0;34m(*args, **kwargs)\u001b[0m\n\u001b[1;32m     70\u001b[0m                           FutureWarning)\n\u001b[1;32m     71\u001b[0m         \u001b[0mkwargs\u001b[0m\u001b[0;34m.\u001b[0m\u001b[0mupdate\u001b[0m\u001b[0;34m(\u001b[0m\u001b[0;34m{\u001b[0m\u001b[0mk\u001b[0m\u001b[0;34m:\u001b[0m \u001b[0marg\u001b[0m \u001b[0;32mfor\u001b[0m \u001b[0mk\u001b[0m\u001b[0;34m,\u001b[0m \u001b[0marg\u001b[0m \u001b[0;32min\u001b[0m \u001b[0mzip\u001b[0m\u001b[0;34m(\u001b[0m\u001b[0msig\u001b[0m\u001b[0;34m.\u001b[0m\u001b[0mparameters\u001b[0m\u001b[0;34m,\u001b[0m \u001b[0margs\u001b[0m\u001b[0;34m)\u001b[0m\u001b[0;34m}\u001b[0m\u001b[0;34m)\u001b[0m\u001b[0;34m\u001b[0m\u001b[0;34m\u001b[0m\u001b[0m\n\u001b[0;32m---> 72\u001b[0;31m         \u001b[0;32mreturn\u001b[0m \u001b[0mf\u001b[0m\u001b[0;34m(\u001b[0m\u001b[0;34m**\u001b[0m\u001b[0mkwargs\u001b[0m\u001b[0;34m)\u001b[0m\u001b[0;34m\u001b[0m\u001b[0;34m\u001b[0m\u001b[0m\n\u001b[0m\u001b[1;32m     73\u001b[0m     \u001b[0;32mreturn\u001b[0m \u001b[0minner_f\u001b[0m\u001b[0;34m\u001b[0m\u001b[0;34m\u001b[0m\u001b[0m\n\u001b[1;32m     74\u001b[0m \u001b[0;34m\u001b[0m\u001b[0m\n",
      "\u001b[0;32m/opt/conda/lib/python3.8/site-packages/sklearn/model_selection/_search.py\u001b[0m in \u001b[0;36mfit\u001b[0;34m(self, X, y, groups, **fit_params)\u001b[0m\n\u001b[1;32m    734\u001b[0m                 \u001b[0;32mreturn\u001b[0m \u001b[0mresults\u001b[0m\u001b[0;34m\u001b[0m\u001b[0;34m\u001b[0m\u001b[0m\n\u001b[1;32m    735\u001b[0m \u001b[0;34m\u001b[0m\u001b[0m\n\u001b[0;32m--> 736\u001b[0;31m             \u001b[0mself\u001b[0m\u001b[0;34m.\u001b[0m\u001b[0m_run_search\u001b[0m\u001b[0;34m(\u001b[0m\u001b[0mevaluate_candidates\u001b[0m\u001b[0;34m)\u001b[0m\u001b[0;34m\u001b[0m\u001b[0;34m\u001b[0m\u001b[0m\n\u001b[0m\u001b[1;32m    737\u001b[0m \u001b[0;34m\u001b[0m\u001b[0m\n\u001b[1;32m    738\u001b[0m         \u001b[0;31m# For multi-metric evaluation, store the best_index_, best_params_ and\u001b[0m\u001b[0;34m\u001b[0m\u001b[0;34m\u001b[0m\u001b[0;34m\u001b[0m\u001b[0m\n",
      "\u001b[0;32m/opt/conda/lib/python3.8/site-packages/sklearn/model_selection/_search.py\u001b[0m in \u001b[0;36m_run_search\u001b[0;34m(self, evaluate_candidates)\u001b[0m\n\u001b[1;32m   1186\u001b[0m     \u001b[0;32mdef\u001b[0m \u001b[0m_run_search\u001b[0m\u001b[0;34m(\u001b[0m\u001b[0mself\u001b[0m\u001b[0;34m,\u001b[0m \u001b[0mevaluate_candidates\u001b[0m\u001b[0;34m)\u001b[0m\u001b[0;34m:\u001b[0m\u001b[0;34m\u001b[0m\u001b[0;34m\u001b[0m\u001b[0m\n\u001b[1;32m   1187\u001b[0m         \u001b[0;34m\"\"\"Search all candidates in param_grid\"\"\"\u001b[0m\u001b[0;34m\u001b[0m\u001b[0;34m\u001b[0m\u001b[0m\n\u001b[0;32m-> 1188\u001b[0;31m         \u001b[0mevaluate_candidates\u001b[0m\u001b[0;34m(\u001b[0m\u001b[0mParameterGrid\u001b[0m\u001b[0;34m(\u001b[0m\u001b[0mself\u001b[0m\u001b[0;34m.\u001b[0m\u001b[0mparam_grid\u001b[0m\u001b[0;34m)\u001b[0m\u001b[0;34m)\u001b[0m\u001b[0;34m\u001b[0m\u001b[0;34m\u001b[0m\u001b[0m\n\u001b[0m\u001b[1;32m   1189\u001b[0m \u001b[0;34m\u001b[0m\u001b[0m\n\u001b[1;32m   1190\u001b[0m \u001b[0;34m\u001b[0m\u001b[0m\n",
      "\u001b[0;32m/opt/conda/lib/python3.8/site-packages/sklearn/model_selection/_search.py\u001b[0m in \u001b[0;36mevaluate_candidates\u001b[0;34m(candidate_params)\u001b[0m\n\u001b[1;32m    706\u001b[0m                               n_splits, n_candidates, n_candidates * n_splits))\n\u001b[1;32m    707\u001b[0m \u001b[0;34m\u001b[0m\u001b[0m\n\u001b[0;32m--> 708\u001b[0;31m                 out = parallel(delayed(_fit_and_score)(clone(base_estimator),\n\u001b[0m\u001b[1;32m    709\u001b[0m                                                        \u001b[0mX\u001b[0m\u001b[0;34m,\u001b[0m \u001b[0my\u001b[0m\u001b[0;34m,\u001b[0m\u001b[0;34m\u001b[0m\u001b[0;34m\u001b[0m\u001b[0m\n\u001b[1;32m    710\u001b[0m                                                        \u001b[0mtrain\u001b[0m\u001b[0;34m=\u001b[0m\u001b[0mtrain\u001b[0m\u001b[0;34m,\u001b[0m \u001b[0mtest\u001b[0m\u001b[0;34m=\u001b[0m\u001b[0mtest\u001b[0m\u001b[0;34m,\u001b[0m\u001b[0;34m\u001b[0m\u001b[0;34m\u001b[0m\u001b[0m\n",
      "\u001b[0;32m/opt/conda/lib/python3.8/site-packages/joblib/parallel.py\u001b[0m in \u001b[0;36m__call__\u001b[0;34m(self, iterable)\u001b[0m\n\u001b[1;32m   1040\u001b[0m \u001b[0;34m\u001b[0m\u001b[0m\n\u001b[1;32m   1041\u001b[0m             \u001b[0;32mwith\u001b[0m \u001b[0mself\u001b[0m\u001b[0;34m.\u001b[0m\u001b[0m_backend\u001b[0m\u001b[0;34m.\u001b[0m\u001b[0mretrieval_context\u001b[0m\u001b[0;34m(\u001b[0m\u001b[0;34m)\u001b[0m\u001b[0;34m:\u001b[0m\u001b[0;34m\u001b[0m\u001b[0;34m\u001b[0m\u001b[0m\n\u001b[0;32m-> 1042\u001b[0;31m                 \u001b[0mself\u001b[0m\u001b[0;34m.\u001b[0m\u001b[0mretrieve\u001b[0m\u001b[0;34m(\u001b[0m\u001b[0;34m)\u001b[0m\u001b[0;34m\u001b[0m\u001b[0;34m\u001b[0m\u001b[0m\n\u001b[0m\u001b[1;32m   1043\u001b[0m             \u001b[0;31m# Make sure that we get a last message telling us we are done\u001b[0m\u001b[0;34m\u001b[0m\u001b[0;34m\u001b[0m\u001b[0;34m\u001b[0m\u001b[0m\n\u001b[1;32m   1044\u001b[0m             \u001b[0melapsed_time\u001b[0m \u001b[0;34m=\u001b[0m \u001b[0mtime\u001b[0m\u001b[0;34m.\u001b[0m\u001b[0mtime\u001b[0m\u001b[0;34m(\u001b[0m\u001b[0;34m)\u001b[0m \u001b[0;34m-\u001b[0m \u001b[0mself\u001b[0m\u001b[0;34m.\u001b[0m\u001b[0m_start_time\u001b[0m\u001b[0;34m\u001b[0m\u001b[0;34m\u001b[0m\u001b[0m\n",
      "\u001b[0;32m/opt/conda/lib/python3.8/site-packages/joblib/parallel.py\u001b[0m in \u001b[0;36mretrieve\u001b[0;34m(self)\u001b[0m\n\u001b[1;32m    919\u001b[0m             \u001b[0;32mtry\u001b[0m\u001b[0;34m:\u001b[0m\u001b[0;34m\u001b[0m\u001b[0;34m\u001b[0m\u001b[0m\n\u001b[1;32m    920\u001b[0m                 \u001b[0;32mif\u001b[0m \u001b[0mgetattr\u001b[0m\u001b[0;34m(\u001b[0m\u001b[0mself\u001b[0m\u001b[0;34m.\u001b[0m\u001b[0m_backend\u001b[0m\u001b[0;34m,\u001b[0m \u001b[0;34m'supports_timeout'\u001b[0m\u001b[0;34m,\u001b[0m \u001b[0;32mFalse\u001b[0m\u001b[0;34m)\u001b[0m\u001b[0;34m:\u001b[0m\u001b[0;34m\u001b[0m\u001b[0;34m\u001b[0m\u001b[0m\n\u001b[0;32m--> 921\u001b[0;31m                     \u001b[0mself\u001b[0m\u001b[0;34m.\u001b[0m\u001b[0m_output\u001b[0m\u001b[0;34m.\u001b[0m\u001b[0mextend\u001b[0m\u001b[0;34m(\u001b[0m\u001b[0mjob\u001b[0m\u001b[0;34m.\u001b[0m\u001b[0mget\u001b[0m\u001b[0;34m(\u001b[0m\u001b[0mtimeout\u001b[0m\u001b[0;34m=\u001b[0m\u001b[0mself\u001b[0m\u001b[0;34m.\u001b[0m\u001b[0mtimeout\u001b[0m\u001b[0;34m)\u001b[0m\u001b[0;34m)\u001b[0m\u001b[0;34m\u001b[0m\u001b[0;34m\u001b[0m\u001b[0m\n\u001b[0m\u001b[1;32m    922\u001b[0m                 \u001b[0;32melse\u001b[0m\u001b[0;34m:\u001b[0m\u001b[0;34m\u001b[0m\u001b[0;34m\u001b[0m\u001b[0m\n\u001b[1;32m    923\u001b[0m                     \u001b[0mself\u001b[0m\u001b[0;34m.\u001b[0m\u001b[0m_output\u001b[0m\u001b[0;34m.\u001b[0m\u001b[0mextend\u001b[0m\u001b[0;34m(\u001b[0m\u001b[0mjob\u001b[0m\u001b[0;34m.\u001b[0m\u001b[0mget\u001b[0m\u001b[0;34m(\u001b[0m\u001b[0;34m)\u001b[0m\u001b[0;34m)\u001b[0m\u001b[0;34m\u001b[0m\u001b[0;34m\u001b[0m\u001b[0m\n",
      "\u001b[0;32m/opt/conda/lib/python3.8/site-packages/joblib/_parallel_backends.py\u001b[0m in \u001b[0;36mwrap_future_result\u001b[0;34m(future, timeout)\u001b[0m\n\u001b[1;32m    540\u001b[0m         AsyncResults.get from multiprocessing.\"\"\"\n\u001b[1;32m    541\u001b[0m         \u001b[0;32mtry\u001b[0m\u001b[0;34m:\u001b[0m\u001b[0;34m\u001b[0m\u001b[0;34m\u001b[0m\u001b[0m\n\u001b[0;32m--> 542\u001b[0;31m             \u001b[0;32mreturn\u001b[0m \u001b[0mfuture\u001b[0m\u001b[0;34m.\u001b[0m\u001b[0mresult\u001b[0m\u001b[0;34m(\u001b[0m\u001b[0mtimeout\u001b[0m\u001b[0;34m=\u001b[0m\u001b[0mtimeout\u001b[0m\u001b[0;34m)\u001b[0m\u001b[0;34m\u001b[0m\u001b[0;34m\u001b[0m\u001b[0m\n\u001b[0m\u001b[1;32m    543\u001b[0m         \u001b[0;32mexcept\u001b[0m \u001b[0mCfTimeoutError\u001b[0m \u001b[0;32mas\u001b[0m \u001b[0me\u001b[0m\u001b[0;34m:\u001b[0m\u001b[0;34m\u001b[0m\u001b[0;34m\u001b[0m\u001b[0m\n\u001b[1;32m    544\u001b[0m             \u001b[0;32mraise\u001b[0m \u001b[0mTimeoutError\u001b[0m \u001b[0;32mfrom\u001b[0m \u001b[0me\u001b[0m\u001b[0;34m\u001b[0m\u001b[0;34m\u001b[0m\u001b[0m\n",
      "\u001b[0;32m/opt/conda/lib/python3.8/concurrent/futures/_base.py\u001b[0m in \u001b[0;36mresult\u001b[0;34m(self, timeout)\u001b[0m\n\u001b[1;32m    432\u001b[0m                 \u001b[0;32mreturn\u001b[0m \u001b[0mself\u001b[0m\u001b[0;34m.\u001b[0m\u001b[0m__get_result\u001b[0m\u001b[0;34m(\u001b[0m\u001b[0;34m)\u001b[0m\u001b[0;34m\u001b[0m\u001b[0;34m\u001b[0m\u001b[0m\n\u001b[1;32m    433\u001b[0m \u001b[0;34m\u001b[0m\u001b[0m\n\u001b[0;32m--> 434\u001b[0;31m             \u001b[0mself\u001b[0m\u001b[0;34m.\u001b[0m\u001b[0m_condition\u001b[0m\u001b[0;34m.\u001b[0m\u001b[0mwait\u001b[0m\u001b[0;34m(\u001b[0m\u001b[0mtimeout\u001b[0m\u001b[0;34m)\u001b[0m\u001b[0;34m\u001b[0m\u001b[0;34m\u001b[0m\u001b[0m\n\u001b[0m\u001b[1;32m    435\u001b[0m \u001b[0;34m\u001b[0m\u001b[0m\n\u001b[1;32m    436\u001b[0m             \u001b[0;32mif\u001b[0m \u001b[0mself\u001b[0m\u001b[0;34m.\u001b[0m\u001b[0m_state\u001b[0m \u001b[0;32min\u001b[0m \u001b[0;34m[\u001b[0m\u001b[0mCANCELLED\u001b[0m\u001b[0;34m,\u001b[0m \u001b[0mCANCELLED_AND_NOTIFIED\u001b[0m\u001b[0;34m]\u001b[0m\u001b[0;34m:\u001b[0m\u001b[0;34m\u001b[0m\u001b[0;34m\u001b[0m\u001b[0m\n",
      "\u001b[0;32m/opt/conda/lib/python3.8/threading.py\u001b[0m in \u001b[0;36mwait\u001b[0;34m(self, timeout)\u001b[0m\n\u001b[1;32m    300\u001b[0m         \u001b[0;32mtry\u001b[0m\u001b[0;34m:\u001b[0m    \u001b[0;31m# restore state no matter what (e.g., KeyboardInterrupt)\u001b[0m\u001b[0;34m\u001b[0m\u001b[0;34m\u001b[0m\u001b[0m\n\u001b[1;32m    301\u001b[0m             \u001b[0;32mif\u001b[0m \u001b[0mtimeout\u001b[0m \u001b[0;32mis\u001b[0m \u001b[0;32mNone\u001b[0m\u001b[0;34m:\u001b[0m\u001b[0;34m\u001b[0m\u001b[0;34m\u001b[0m\u001b[0m\n\u001b[0;32m--> 302\u001b[0;31m                 \u001b[0mwaiter\u001b[0m\u001b[0;34m.\u001b[0m\u001b[0macquire\u001b[0m\u001b[0;34m(\u001b[0m\u001b[0;34m)\u001b[0m\u001b[0;34m\u001b[0m\u001b[0;34m\u001b[0m\u001b[0m\n\u001b[0m\u001b[1;32m    303\u001b[0m                 \u001b[0mgotit\u001b[0m \u001b[0;34m=\u001b[0m \u001b[0;32mTrue\u001b[0m\u001b[0;34m\u001b[0m\u001b[0;34m\u001b[0m\u001b[0m\n\u001b[1;32m    304\u001b[0m             \u001b[0;32melse\u001b[0m\u001b[0;34m:\u001b[0m\u001b[0;34m\u001b[0m\u001b[0;34m\u001b[0m\u001b[0m\n",
      "\u001b[0;31mKeyboardInterrupt\u001b[0m: "
     ]
    }
   ],
   "source": [
    "results = []\n",
    "\n",
    "for index, value in enumerate(ANTIBIOTIC_LIST[::-1]):\n",
    "    index_name = int((len(df.columns) - 1) - index)\n",
    "\n",
    "    y = df[index_name]\n",
    "    x = df.drop(index_name, axis=1)\n",
    "    \n",
    "    x_train, x_test, y_train, y_test = train_test_split(x, y, test_size = 0.3, random_state = 42, shuffle=False)\n",
    "    gs, pred = algorithm_pipeline(x_train, x_test, y_train, y_test, model, \n",
    "                                 param_grid, cv=5)\n",
    "\n",
    "    params = gs.best_params_\n",
    "    \n",
    "    model = lgb.LGBMRegressor(**params)\n",
    "    model.fit(x_train, y_train)\n",
    "    \n",
    "    y_pred=model.predict(x_test)\n",
    "    \n",
    "    mse, mae, r2 = get_metrics(y_test, y_pred)\n",
    "    results.append({\n",
    "        \"name\": value, \n",
    "         \"mse\": mse, \n",
    "         \"mae\": mae, \n",
    "         \"r2\": r2\n",
    "    })"
   ]
  },
  {
   "cell_type": "code",
   "execution_count": null,
   "metadata": {},
   "outputs": [],
   "source": [
    "results"
   ]
  },
  {
   "cell_type": "code",
   "execution_count": 25,
   "metadata": {},
   "outputs": [
    {
     "data": {
      "text/plain": [
       "[{'name': 'Trimethoprim/Sulfamethoxazole',\n",
       "  'mse': 1.6035968628585067,\n",
       "  'mae': 0.9688595267177702,\n",
       "  'r2': 0.2762951061995128},\n",
       " {'name': 'Tobramycin',\n",
       "  'mse': 16.216575600400137,\n",
       "  'mae': 3.241377727233006,\n",
       "  'r2': 0.5637578299748887},\n",
       " {'name': 'Tetracycline',\n",
       "  'mse': 26.804366338221712,\n",
       "  'mae': 4.350389215033006,\n",
       "  'r2': 0.258859754548052},\n",
       " {'name': 'Piperacillin/Tazobactam',\n",
       "  'mse': 1655.284933169597,\n",
       "  'mae': 28.730939099968463,\n",
       "  'r2': 0.3326414038267458},\n",
       " {'name': 'Nitrofurantoin',\n",
       "  'mse': 4421.230745678358,\n",
       "  'mae': 55.62925679769783,\n",
       "  'r2': -0.1813072142269141},\n",
       " {'name': 'Meropenem',\n",
       "  'mse': 113.88934476907873,\n",
       "  'mae': 4.704567288579886,\n",
       "  'r2': 0.6045576561853002},\n",
       " {'name': 'Levofloxacin',\n",
       "  'mse': 3.7115763161360467,\n",
       "  'mae': 1.2231464221190094,\n",
       "  'r2': 0.4390329258957233}]"
      ]
     },
     "execution_count": 25,
     "metadata": {},
     "output_type": "execute_result"
    }
   ],
   "source": [
    "results"
   ]
  },
  {
   "cell_type": "code",
   "execution_count": 17,
   "metadata": {},
   "outputs": [
    {
     "data": {
      "text/plain": [
       "[{'name': 'Trimethoprim/Sulfamethoxazole',\n",
       "  'mse': 1.7584694678021393,\n",
       "  'mae': 0.9879802338533317,\n",
       "  'r2': 0.057085818791628884},\n",
       " {'name': 'Tobramycin',\n",
       "  'mse': 16.377358839917637,\n",
       "  'mae': 3.276315632765871,\n",
       "  'r2': 0.5524462608744565},\n",
       " {'name': 'Tetracycline',\n",
       "  'mse': 27.184940718828734,\n",
       "  'mae': 4.298610717606818,\n",
       "  'r2': 0.24648490835482673},\n",
       " {'name': 'Piperacillin/Tazobactam',\n",
       "  'mse': 1694.9050853334707,\n",
       "  'mae': 30.102860811654285,\n",
       "  'r2': 0.26121601461468524},\n",
       " {'name': 'Nitrofurantoin',\n",
       "  'mse': 4643.972060507573,\n",
       "  'mae': 58.52501738409949,\n",
       "  'r2': -0.23687677988006883},\n",
       " {'name': 'Meropenem',\n",
       "  'mse': 9.0197628780036,\n",
       "  'mae': 1.8484351266623074,\n",
       "  'r2': 0.7847254875440017},\n",
       " {'name': 'Levofloxacin',\n",
       "  'mse': 1.8648682458297026,\n",
       "  'mae': 0.8330624626218273,\n",
       "  'r2': 0.6524910355097608},\n",
       " {'name': 'Imipenem',\n",
       "  'mse': 8.31666080514956,\n",
       "  'mae': 1.9535202083396532,\n",
       "  'r2': 0.7835576816760308},\n",
       " {'name': 'Gentamicin',\n",
       "  'mse': 27.219312560268932,\n",
       "  'mae': 4.189539755410192,\n",
       "  'r2': 0.38259146992352033},\n",
       " {'name': 'Ciprofloxacin',\n",
       "  'mse': 0.2547820985697206,\n",
       "  'mae': 0.26967824937760543,\n",
       "  'r2': 0.6079332938576072},\n",
       " {'name': 'Cefuroxime sodium',\n",
       "  'mse': 2.5130827146955372,\n",
       "  'mae': 0.8371870539659564,\n",
       "  'r2': -0.1879067453917982},\n",
       " {'name': 'Ceftriaxone',\n",
       "  'mse': 107.92128458121442,\n",
       "  'mae': 6.166989064210656,\n",
       "  'r2': 0.5680768240137097},\n",
       " {'name': 'Ceftazidime',\n",
       "  'mse': 39.02372919936982,\n",
       "  'mae': 3.865340915526723,\n",
       "  'r2': 0.277995496677342},\n",
       " {'name': 'Cefoxitin',\n",
       "  'mse': 83.89410187978943,\n",
       "  'mae': 6.4560192472349485,\n",
       "  'r2': 0.39788441939879504},\n",
       " {'name': 'Cefepime',\n",
       "  'mse': 175.391176078966,\n",
       "  'mae': 11.358448744255865,\n",
       "  'r2': 0.1430212465467796},\n",
       " {'name': 'Cefazolin',\n",
       "  'mse': 11.558507453739065,\n",
       "  'mae': 1.3628287585006897,\n",
       "  'r2': 0.12072887259190612},\n",
       " {'name': 'Aztreonam',\n",
       "  'mse': 101.11597862910168,\n",
       "  'mae': 6.840507334251012,\n",
       "  'r2': 0.08287368436559828},\n",
       " {'name': 'Ampicillin/Sulbactam',\n",
       "  'mse': 12.383422768232235,\n",
       "  'mae': 1.9901484114417338,\n",
       "  'r2': 0.22258088090059913},\n",
       " {'name': 'Ampicillin', 'mse': 0.0, 'mae': 0.0, 'r2': 1.0},\n",
       " {'name': 'Amikacin',\n",
       "  'mse': 107.387524185448,\n",
       "  'mae': 6.801790019653388,\n",
       "  'r2': 0.4995817881342517}]"
      ]
     },
     "execution_count": 17,
     "metadata": {},
     "output_type": "execute_result"
    }
   ],
   "source": [
    "results"
   ]
  },
  {
   "cell_type": "code",
   "execution_count": 19,
   "metadata": {},
   "outputs": [
    {
     "data": {
      "text/plain": [
       "[{'name': 'Trimethoprim/Sulfamethoxazole',\n",
       "  'mse': 1.4888562477280876,\n",
       "  'mae': 0.9222309309940206,\n",
       "  'r2': 0.32807766240852265},\n",
       " {'name': 'Tobramycin',\n",
       "  'mse': 15.637690174701797,\n",
       "  'mae': 3.185663422368499,\n",
       "  'r2': 0.5793304293032157},\n",
       " {'name': 'Tetracycline',\n",
       "  'mse': 27.049059370147248,\n",
       "  'mae': 4.401220306684193,\n",
       "  'r2': 0.2520939966318474},\n",
       " {'name': 'Piperacillin/Tazobactam',\n",
       "  'mse': 1563.2156703887251,\n",
       "  'mae': 27.46008719005732,\n",
       "  'r2': 0.36976082219932505},\n",
       " {'name': 'Nitrofurantoin',\n",
       "  'mse': 4277.002862218243,\n",
       "  'mae': 54.45024852990884,\n",
       "  'r2': -0.14277101265212577},\n",
       " {'name': 'Meropenem',\n",
       "  'mse': 119.82624968033356,\n",
       "  'mae': 4.687416408132143,\n",
       "  'r2': 0.5839437559308752},\n",
       " {'name': 'Levofloxacin',\n",
       "  'mse': 3.9427071107942444,\n",
       "  'mae': 1.157667570098017,\n",
       "  'r2': 0.404099853106374},\n",
       " {'name': 'Imipenem',\n",
       "  'mse': 72.77335843999312,\n",
       "  'mae': 4.359093897333441,\n",
       "  'r2': 0.5525446675346315},\n",
       " {'name': 'Gentamicin',\n",
       "  'mse': 139.35617400725576,\n",
       "  'mae': 6.025936350578807,\n",
       "  'r2': 0.2553746225053879},\n",
       " {'name': 'Ciprofloxacin',\n",
       "  'mse': 14.170870256137306,\n",
       "  'mae': 1.5268903838093157,\n",
       "  'r2': -3.362155242137403},\n",
       " {'name': 'Cefuroxime sodium',\n",
       "  'mse': 5.616742924400404,\n",
       "  'mae': 1.3793123987682532,\n",
       "  'r2': 0.8372872358088638},\n",
       " {'name': 'Ceftriaxone',\n",
       "  'mse': 133.13870413269106,\n",
       "  'mae': 6.815214132839862,\n",
       "  'r2': 0.5820038726590971},\n",
       " {'name': 'Ceftazidime',\n",
       "  'mse': 56.37823493954475,\n",
       "  'mae': 4.507968256326816,\n",
       "  'r2': 0.3695618398454791},\n",
       " {'name': 'Cefoxitin',\n",
       "  'mse': 88.1794803085216,\n",
       "  'mae': 6.72147121449021,\n",
       "  'r2': 0.35314216555711997},\n",
       " {'name': 'Cefepime',\n",
       "  'mse': 172.2775819193578,\n",
       "  'mae': 11.261284883806733,\n",
       "  'r2': 0.15177257452813642},\n",
       " {'name': 'Cefazolin',\n",
       "  'mse': 50.59575861626775,\n",
       "  'mae': 2.7065742576291245,\n",
       "  'r2': -0.3156587496262122},\n",
       " {'name': 'Aztreonam',\n",
       "  'mse': 97.30152161996959,\n",
       "  'mae': 6.35089181542908,\n",
       "  'r2': 0.08183013066208877},\n",
       " {'name': 'Ampicillin/Sulbactam',\n",
       "  'mse': 32.84669551781311,\n",
       "  'mae': 2.817046968581312,\n",
       "  'r2': -0.00028003099545070853},\n",
       " {'name': 'Ampicillin',\n",
       "  'mse': 7.6128513501966975,\n",
       "  'mae': 0.7773854565390114,\n",
       "  'r2': 0.04139543505248877},\n",
       " {'name': 'Amikacin',\n",
       "  'mse': 112.05213645451353,\n",
       "  'mae': 7.23435863422556,\n",
       "  'r2': 0.4985634021705774}]"
      ]
     },
     "execution_count": 19,
     "metadata": {},
     "output_type": "execute_result"
    }
   ],
   "source": [
    "# Partial\n",
    "params = {'colsample_bytree': 0.7, 'max_depth': 15, 'min_split_gain': 0.4, 'n_estimators': 400, 'num_leaves': 50, 'reg_alpha': 1.3, 'reg_lambda': 1.1, 'subsample': 0.9, 'subsample_freq': 20}\n",
    "results"
   ]
  },
  {
   "cell_type": "code",
   "execution_count": 8,
   "metadata": {},
   "outputs": [],
   "source": [
    "## Trainning model"
   ]
  },
  {
   "cell_type": "code",
   "execution_count": 7,
   "metadata": {},
   "outputs": [],
   "source": [
    "params = {'colsample_bytree': 0.7, 'max_depth': 15, 'min_split_gain': 0.4, 'n_estimators': 400, 'num_leaves': 50, 'reg_alpha': 1.3, 'reg_lambda': 1.1, 'subsample': 0.9, 'subsample_freq': 20}"
   ]
  },
  {
   "cell_type": "code",
   "execution_count": 19,
   "metadata": {},
   "outputs": [],
   "source": [
    "multi_regressor = MultiOutputRegressor(lgb.LGBMRegressor(**params))"
   ]
  },
  {
   "cell_type": "code",
   "execution_count": 35,
   "metadata": {},
   "outputs": [
    {
     "data": {
      "text/plain": [
       "MultiOutputRegressor(estimator=LGBMRegressor(colsample_bytree=0.7, max_depth=15,\n",
       "                                             min_split_gain=0.4,\n",
       "                                             n_estimators=400, num_leaves=50,\n",
       "                                             reg_alpha=1.3, reg_lambda=1.1,\n",
       "                                             subsample=0.9, subsample_freq=20))"
      ]
     },
     "execution_count": 35,
     "metadata": {},
     "output_type": "execute_result"
    }
   ],
   "source": [
    "multi_regressor.fit(x_train, y_train)"
   ]
  },
  {
   "cell_type": "code",
   "execution_count": 36,
   "metadata": {},
   "outputs": [
    {
     "data": {
      "text/plain": [
       "-0.1748435943601686"
      ]
     },
     "execution_count": 36,
     "metadata": {},
     "output_type": "execute_result"
    }
   ],
   "source": [
    "multi_regressor.score(x_test, y_test)"
   ]
  },
  {
   "cell_type": "code",
   "execution_count": 44,
   "metadata": {},
   "outputs": [],
   "source": [
    "y_pred=multi_regressor.predict(x_test)"
   ]
  },
  {
   "cell_type": "code",
   "execution_count": 45,
   "metadata": {},
   "outputs": [
    {
     "name": "stdout",
     "output_type": "stream",
     "text": [
      "MSE:  465.1994537234406\n",
      "MAE:  9.968363863916919\n",
      "R2:  -0.1748435943601686\n"
     ]
    }
   ],
   "source": [
    "mse, mae, r2 = get_metrics(y_test, y_pred)"
   ]
  },
  {
   "cell_type": "code",
   "execution_count": 14,
   "metadata": {},
   "outputs": [],
   "source": [
    "## Utils"
   ]
  },
  {
   "cell_type": "code",
   "execution_count": 13,
   "metadata": {},
   "outputs": [],
   "source": [
    "def get_y_index(antibiotic_list: list, data):\n",
    "    y_list = []\n",
    "    index_names = []\n",
    "\n",
    "\n",
    "    for index, value in enumerate(antibiotic_list):\n",
    "        index_name = int((len(df.columns) - 1) - index)\n",
    "\n",
    "        y = df[index_name]\n",
    "\n",
    "        if not len(y_list):\n",
    "            y_list = np.zeros((len(y),len(antibiotic_list)))\n",
    "\n",
    "        y_list[:,index] = y\n",
    "\n",
    "        index_names.append(index_name)\n",
    "        \n",
    "    return y_list, index_names\n"
   ]
  },
  {
   "cell_type": "code",
   "execution_count": 12,
   "metadata": {},
   "outputs": [],
   "source": [
    "def get_metrics(expected, predicted):\n",
    "    mse = mean_squared_error(expected, predicted, squared=True)\n",
    "    mae = mean_absolute_error(expected, predicted)\n",
    "    r2 = r2_score(expected, predicted)\n",
    "\n",
    "    return mse, mae, r2"
   ]
  },
  {
   "cell_type": "code",
   "execution_count": 11,
   "metadata": {},
   "outputs": [],
   "source": [
    "def algorithm_pipeline(X_train_data, X_test_data, y_train_data, y_test_data, \n",
    "                       model, param_grid, cv=10, scoring_fit='neg_mean_squared_error',\n",
    "                       do_probabilities = False):\n",
    "    gs = GridSearchCV(\n",
    "        estimator=model,\n",
    "        param_grid=param_grid, \n",
    "        cv=cv, \n",
    "        n_jobs=-1, \n",
    "        scoring=scoring_fit,\n",
    "        verbose=2\n",
    "    )\n",
    "    \n",
    "    fitted_model = gs.fit(X_train_data, y_train_data)\n",
    "    \n",
    "    if do_probabilities:\n",
    "      pred = fitted_model.predict_proba(X_test_data)\n",
    "    else:\n",
    "      pred = fitted_model.predict(X_test_data)\n",
    "    \n",
    "    return fitted_model, pred"
   ]
  }
 ],
 "metadata": {
  "kernelspec": {
   "display_name": "Python 3",
   "language": "python",
   "name": "python3"
  },
  "language_info": {
   "codemirror_mode": {
    "name": "ipython",
    "version": 3
   },
   "file_extension": ".py",
   "mimetype": "text/x-python",
   "name": "python",
   "nbconvert_exporter": "python",
   "pygments_lexer": "ipython3",
   "version": "3.8.5"
  }
 },
 "nbformat": 4,
 "nbformat_minor": 4
}
