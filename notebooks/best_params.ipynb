{
 "cells": [
  {
   "cell_type": "markdown",
   "metadata": {},
   "source": [
    "## Imports"
   ]
  },
  {
   "cell_type": "code",
   "execution_count": 28,
   "metadata": {},
   "outputs": [],
   "source": [
    "import numpy as np\n",
    "import pandas as pd\n",
    "from sklearn.model_selection import train_test_split, GridSearchCV\n",
    "import lightgbm as lgb\n",
    "import matplotlib.pyplot as plt\n",
    "from sklearn.metrics import mean_squared_error, mean_absolute_error, r2_score\n",
    "from sklearn.multioutput import MultiOutputRegressor"
   ]
  },
  {
   "cell_type": "markdown",
   "metadata": {},
   "source": [
    "## Load data and get base info"
   ]
  },
  {
   "cell_type": "code",
   "execution_count": 2,
   "metadata": {},
   "outputs": [],
   "source": [
    "df = pd.read_csv(\"../data/datasets/2021-11-30 21:10:43.416992.csv\", header=None)"
   ]
  },
  {
   "cell_type": "code",
   "execution_count": 3,
   "metadata": {
    "scrolled": true
   },
   "outputs": [
    {
     "data": {
      "text/html": [
       "<div>\n",
       "<style scoped>\n",
       "    .dataframe tbody tr th:only-of-type {\n",
       "        vertical-align: middle;\n",
       "    }\n",
       "\n",
       "    .dataframe tbody tr th {\n",
       "        vertical-align: top;\n",
       "    }\n",
       "\n",
       "    .dataframe thead th {\n",
       "        text-align: right;\n",
       "    }\n",
       "</style>\n",
       "<table border=\"1\" class=\"dataframe\">\n",
       "  <thead>\n",
       "    <tr style=\"text-align: right;\">\n",
       "      <th></th>\n",
       "      <th>0</th>\n",
       "      <th>1</th>\n",
       "      <th>2</th>\n",
       "      <th>3</th>\n",
       "      <th>4</th>\n",
       "      <th>5</th>\n",
       "      <th>6</th>\n",
       "      <th>7</th>\n",
       "      <th>8</th>\n",
       "      <th>9</th>\n",
       "      <th>...</th>\n",
       "      <th>2090</th>\n",
       "      <th>2091</th>\n",
       "      <th>2092</th>\n",
       "      <th>2093</th>\n",
       "      <th>2094</th>\n",
       "      <th>2095</th>\n",
       "      <th>2096</th>\n",
       "      <th>2097</th>\n",
       "      <th>2098</th>\n",
       "      <th>2099</th>\n",
       "    </tr>\n",
       "  </thead>\n",
       "  <tbody>\n",
       "    <tr>\n",
       "      <th>0</th>\n",
       "      <td>179488</td>\n",
       "      <td>143207</td>\n",
       "      <td>148175</td>\n",
       "      <td>137064</td>\n",
       "      <td>86417</td>\n",
       "      <td>140882</td>\n",
       "      <td>133333</td>\n",
       "      <td>66603</td>\n",
       "      <td>78814</td>\n",
       "      <td>135985</td>\n",
       "      <td>...</td>\n",
       "      <td>0.5</td>\n",
       "      <td>2.0</td>\n",
       "      <td>1.0</td>\n",
       "      <td>1.0</td>\n",
       "      <td>1.0</td>\n",
       "      <td>128.0</td>\n",
       "      <td>128.0</td>\n",
       "      <td>16.0</td>\n",
       "      <td>2.0</td>\n",
       "      <td>4.0</td>\n",
       "    </tr>\n",
       "    <tr>\n",
       "      <th>1</th>\n",
       "      <td>217000</td>\n",
       "      <td>167666</td>\n",
       "      <td>175861</td>\n",
       "      <td>173748</td>\n",
       "      <td>114018</td>\n",
       "      <td>164957</td>\n",
       "      <td>151647</td>\n",
       "      <td>81046</td>\n",
       "      <td>100916</td>\n",
       "      <td>161555</td>\n",
       "      <td>...</td>\n",
       "      <td>4.0</td>\n",
       "      <td>2.0</td>\n",
       "      <td>1.0</td>\n",
       "      <td>8.0</td>\n",
       "      <td>1.0</td>\n",
       "      <td>128.0</td>\n",
       "      <td>128.0</td>\n",
       "      <td>16.0</td>\n",
       "      <td>8.0</td>\n",
       "      <td>4.0</td>\n",
       "    </tr>\n",
       "    <tr>\n",
       "      <th>2</th>\n",
       "      <td>177058</td>\n",
       "      <td>142827</td>\n",
       "      <td>141334</td>\n",
       "      <td>141134</td>\n",
       "      <td>95424</td>\n",
       "      <td>131291</td>\n",
       "      <td>126715</td>\n",
       "      <td>67735</td>\n",
       "      <td>81034</td>\n",
       "      <td>130750</td>\n",
       "      <td>...</td>\n",
       "      <td>4.0</td>\n",
       "      <td>2.0</td>\n",
       "      <td>16.0</td>\n",
       "      <td>8.0</td>\n",
       "      <td>16.0</td>\n",
       "      <td>128.0</td>\n",
       "      <td>128.0</td>\n",
       "      <td>4.0</td>\n",
       "      <td>16.0</td>\n",
       "      <td>4.0</td>\n",
       "    </tr>\n",
       "    <tr>\n",
       "      <th>3</th>\n",
       "      <td>526913</td>\n",
       "      <td>421950</td>\n",
       "      <td>429013</td>\n",
       "      <td>415132</td>\n",
       "      <td>281079</td>\n",
       "      <td>408112</td>\n",
       "      <td>390148</td>\n",
       "      <td>215883</td>\n",
       "      <td>245669</td>\n",
       "      <td>404273</td>\n",
       "      <td>...</td>\n",
       "      <td>4.0</td>\n",
       "      <td>16.0</td>\n",
       "      <td>16.0</td>\n",
       "      <td>8.0</td>\n",
       "      <td>16.0</td>\n",
       "      <td>128.0</td>\n",
       "      <td>128.0</td>\n",
       "      <td>8.0</td>\n",
       "      <td>16.0</td>\n",
       "      <td>4.0</td>\n",
       "    </tr>\n",
       "    <tr>\n",
       "      <th>4</th>\n",
       "      <td>229459</td>\n",
       "      <td>174821</td>\n",
       "      <td>183305</td>\n",
       "      <td>183706</td>\n",
       "      <td>118194</td>\n",
       "      <td>170429</td>\n",
       "      <td>156704</td>\n",
       "      <td>86224</td>\n",
       "      <td>107430</td>\n",
       "      <td>169982</td>\n",
       "      <td>...</td>\n",
       "      <td>4.0</td>\n",
       "      <td>16.0</td>\n",
       "      <td>1.0</td>\n",
       "      <td>1.0</td>\n",
       "      <td>1.0</td>\n",
       "      <td>0.0</td>\n",
       "      <td>32.0</td>\n",
       "      <td>16.0</td>\n",
       "      <td>16.0</td>\n",
       "      <td>4.0</td>\n",
       "    </tr>\n",
       "  </tbody>\n",
       "</table>\n",
       "<p>5 rows × 2100 columns</p>\n",
       "</div>"
      ],
      "text/plain": [
       "     0       1       2       3       4       5       6       7       8     \\\n",
       "0  179488  143207  148175  137064   86417  140882  133333   66603   78814   \n",
       "1  217000  167666  175861  173748  114018  164957  151647   81046  100916   \n",
       "2  177058  142827  141334  141134   95424  131291  126715   67735   81034   \n",
       "3  526913  421950  429013  415132  281079  408112  390148  215883  245669   \n",
       "4  229459  174821  183305  183706  118194  170429  156704   86224  107430   \n",
       "\n",
       "     9     ...  2090  2091  2092  2093  2094   2095   2096  2097  2098  2099  \n",
       "0  135985  ...   0.5   2.0   1.0   1.0   1.0  128.0  128.0  16.0   2.0   4.0  \n",
       "1  161555  ...   4.0   2.0   1.0   8.0   1.0  128.0  128.0  16.0   8.0   4.0  \n",
       "2  130750  ...   4.0   2.0  16.0   8.0  16.0  128.0  128.0   4.0  16.0   4.0  \n",
       "3  404273  ...   4.0  16.0  16.0   8.0  16.0  128.0  128.0   8.0  16.0   4.0  \n",
       "4  169982  ...   4.0  16.0   1.0   1.0   1.0    0.0   32.0  16.0  16.0   4.0  \n",
       "\n",
       "[5 rows x 2100 columns]"
      ]
     },
     "execution_count": 3,
     "metadata": {},
     "output_type": "execute_result"
    }
   ],
   "source": [
    "df.head()"
   ]
  },
  {
   "cell_type": "code",
   "execution_count": 4,
   "metadata": {},
   "outputs": [
    {
     "data": {
      "text/html": [
       "<div>\n",
       "<style scoped>\n",
       "    .dataframe tbody tr th:only-of-type {\n",
       "        vertical-align: middle;\n",
       "    }\n",
       "\n",
       "    .dataframe tbody tr th {\n",
       "        vertical-align: top;\n",
       "    }\n",
       "\n",
       "    .dataframe thead th {\n",
       "        text-align: right;\n",
       "    }\n",
       "</style>\n",
       "<table border=\"1\" class=\"dataframe\">\n",
       "  <thead>\n",
       "    <tr style=\"text-align: right;\">\n",
       "      <th></th>\n",
       "      <th>0</th>\n",
       "      <th>1</th>\n",
       "      <th>2</th>\n",
       "      <th>3</th>\n",
       "      <th>4</th>\n",
       "      <th>5</th>\n",
       "      <th>6</th>\n",
       "      <th>7</th>\n",
       "      <th>8</th>\n",
       "      <th>9</th>\n",
       "      <th>...</th>\n",
       "      <th>2090</th>\n",
       "      <th>2091</th>\n",
       "      <th>2092</th>\n",
       "      <th>2093</th>\n",
       "      <th>2094</th>\n",
       "      <th>2095</th>\n",
       "      <th>2096</th>\n",
       "      <th>2097</th>\n",
       "      <th>2098</th>\n",
       "      <th>2099</th>\n",
       "    </tr>\n",
       "  </thead>\n",
       "  <tbody>\n",
       "    <tr>\n",
       "      <th>count</th>\n",
       "      <td>4.000000e+02</td>\n",
       "      <td>4.000000e+02</td>\n",
       "      <td>4.000000e+02</td>\n",
       "      <td>4.000000e+02</td>\n",
       "      <td>400.000000</td>\n",
       "      <td>4.000000e+02</td>\n",
       "      <td>4.000000e+02</td>\n",
       "      <td>400.000000</td>\n",
       "      <td>400.000000</td>\n",
       "      <td>4.000000e+02</td>\n",
       "      <td>...</td>\n",
       "      <td>400.000000</td>\n",
       "      <td>399.000000</td>\n",
       "      <td>399.000000</td>\n",
       "      <td>399.000000</td>\n",
       "      <td>399.000000</td>\n",
       "      <td>397.000000</td>\n",
       "      <td>393.000000</td>\n",
       "      <td>392.000000</td>\n",
       "      <td>390.000000</td>\n",
       "      <td>382.000000</td>\n",
       "    </tr>\n",
       "    <tr>\n",
       "      <th>mean</th>\n",
       "      <td>2.081785e+05</td>\n",
       "      <td>1.598347e+05</td>\n",
       "      <td>1.629532e+05</td>\n",
       "      <td>1.622549e+05</td>\n",
       "      <td>109329.167500</td>\n",
       "      <td>1.510835e+05</td>\n",
       "      <td>1.369705e+05</td>\n",
       "      <td>75492.830000</td>\n",
       "      <td>96758.412500</td>\n",
       "      <td>1.455626e+05</td>\n",
       "      <td>...</td>\n",
       "      <td>4.158750</td>\n",
       "      <td>9.383459</td>\n",
       "      <td>6.278195</td>\n",
       "      <td>6.929825</td>\n",
       "      <td>6.739348</td>\n",
       "      <td>62.127204</td>\n",
       "      <td>92.927481</td>\n",
       "      <td>9.854592</td>\n",
       "      <td>9.520513</td>\n",
       "      <td>3.307592</td>\n",
       "    </tr>\n",
       "    <tr>\n",
       "      <th>std</th>\n",
       "      <td>1.646239e+05</td>\n",
       "      <td>1.284510e+05</td>\n",
       "      <td>1.291370e+05</td>\n",
       "      <td>1.292015e+05</td>\n",
       "      <td>91794.643618</td>\n",
       "      <td>1.227376e+05</td>\n",
       "      <td>1.103589e+05</td>\n",
       "      <td>63360.033919</td>\n",
       "      <td>78016.704548</td>\n",
       "      <td>1.134116e+05</td>\n",
       "      <td>...</td>\n",
       "      <td>6.398655</td>\n",
       "      <td>12.599387</td>\n",
       "      <td>13.720296</td>\n",
       "      <td>2.761925</td>\n",
       "      <td>15.121193</td>\n",
       "      <td>61.845846</td>\n",
       "      <td>50.820668</td>\n",
       "      <td>5.987351</td>\n",
       "      <td>6.106875</td>\n",
       "      <td>1.345848</td>\n",
       "    </tr>\n",
       "    <tr>\n",
       "      <th>min</th>\n",
       "      <td>5.500000e+01</td>\n",
       "      <td>5.000000e+01</td>\n",
       "      <td>4.100000e+01</td>\n",
       "      <td>4.800000e+01</td>\n",
       "      <td>26.000000</td>\n",
       "      <td>3.800000e+01</td>\n",
       "      <td>5.200000e+01</td>\n",
       "      <td>25.000000</td>\n",
       "      <td>26.000000</td>\n",
       "      <td>3.600000e+01</td>\n",
       "      <td>...</td>\n",
       "      <td>0.000000</td>\n",
       "      <td>0.000000</td>\n",
       "      <td>0.000000</td>\n",
       "      <td>0.000000</td>\n",
       "      <td>0.000000</td>\n",
       "      <td>0.000000</td>\n",
       "      <td>0.500000</td>\n",
       "      <td>1.000000</td>\n",
       "      <td>1.000000</td>\n",
       "      <td>0.500000</td>\n",
       "    </tr>\n",
       "    <tr>\n",
       "      <th>25%</th>\n",
       "      <td>1.095278e+05</td>\n",
       "      <td>8.060475e+04</td>\n",
       "      <td>8.344300e+04</td>\n",
       "      <td>8.348175e+04</td>\n",
       "      <td>56268.500000</td>\n",
       "      <td>7.725400e+04</td>\n",
       "      <td>7.054650e+04</td>\n",
       "      <td>38603.000000</td>\n",
       "      <td>48400.750000</td>\n",
       "      <td>7.695975e+04</td>\n",
       "      <td>...</td>\n",
       "      <td>4.000000</td>\n",
       "      <td>2.000000</td>\n",
       "      <td>1.000000</td>\n",
       "      <td>8.000000</td>\n",
       "      <td>1.000000</td>\n",
       "      <td>0.000000</td>\n",
       "      <td>32.000000</td>\n",
       "      <td>4.000000</td>\n",
       "      <td>2.000000</td>\n",
       "      <td>4.000000</td>\n",
       "    </tr>\n",
       "    <tr>\n",
       "      <th>50%</th>\n",
       "      <td>1.915815e+05</td>\n",
       "      <td>1.518785e+05</td>\n",
       "      <td>1.551445e+05</td>\n",
       "      <td>1.519020e+05</td>\n",
       "      <td>101521.000000</td>\n",
       "      <td>1.465180e+05</td>\n",
       "      <td>1.343910e+05</td>\n",
       "      <td>72327.000000</td>\n",
       "      <td>91097.500000</td>\n",
       "      <td>1.440605e+05</td>\n",
       "      <td>...</td>\n",
       "      <td>4.000000</td>\n",
       "      <td>4.000000</td>\n",
       "      <td>1.000000</td>\n",
       "      <td>8.000000</td>\n",
       "      <td>1.000000</td>\n",
       "      <td>64.000000</td>\n",
       "      <td>128.000000</td>\n",
       "      <td>8.000000</td>\n",
       "      <td>8.000000</td>\n",
       "      <td>4.000000</td>\n",
       "    </tr>\n",
       "    <tr>\n",
       "      <th>75%</th>\n",
       "      <td>2.559745e+05</td>\n",
       "      <td>1.940828e+05</td>\n",
       "      <td>1.982740e+05</td>\n",
       "      <td>1.991295e+05</td>\n",
       "      <td>135241.750000</td>\n",
       "      <td>1.849682e+05</td>\n",
       "      <td>1.659938e+05</td>\n",
       "      <td>91864.250000</td>\n",
       "      <td>120887.500000</td>\n",
       "      <td>1.774155e+05</td>\n",
       "      <td>...</td>\n",
       "      <td>4.000000</td>\n",
       "      <td>16.000000</td>\n",
       "      <td>8.000000</td>\n",
       "      <td>8.000000</td>\n",
       "      <td>16.000000</td>\n",
       "      <td>128.000000</td>\n",
       "      <td>128.000000</td>\n",
       "      <td>16.000000</td>\n",
       "      <td>16.000000</td>\n",
       "      <td>4.000000</td>\n",
       "    </tr>\n",
       "    <tr>\n",
       "      <th>max</th>\n",
       "      <td>1.315187e+06</td>\n",
       "      <td>1.298782e+06</td>\n",
       "      <td>1.209587e+06</td>\n",
       "      <td>1.170936e+06</td>\n",
       "      <td>994445.000000</td>\n",
       "      <td>1.336018e+06</td>\n",
       "      <td>1.227283e+06</td>\n",
       "      <td>570124.000000</td>\n",
       "      <td>704976.000000</td>\n",
       "      <td>1.002992e+06</td>\n",
       "      <td>...</td>\n",
       "      <td>128.000000</td>\n",
       "      <td>128.000000</td>\n",
       "      <td>128.000000</td>\n",
       "      <td>16.000000</td>\n",
       "      <td>128.000000</td>\n",
       "      <td>128.000000</td>\n",
       "      <td>128.000000</td>\n",
       "      <td>16.000000</td>\n",
       "      <td>16.000000</td>\n",
       "      <td>4.000000</td>\n",
       "    </tr>\n",
       "  </tbody>\n",
       "</table>\n",
       "<p>8 rows × 2100 columns</p>\n",
       "</div>"
      ],
      "text/plain": [
       "               0             1             2             3              4     \\\n",
       "count  4.000000e+02  4.000000e+02  4.000000e+02  4.000000e+02     400.000000   \n",
       "mean   2.081785e+05  1.598347e+05  1.629532e+05  1.622549e+05  109329.167500   \n",
       "std    1.646239e+05  1.284510e+05  1.291370e+05  1.292015e+05   91794.643618   \n",
       "min    5.500000e+01  5.000000e+01  4.100000e+01  4.800000e+01      26.000000   \n",
       "25%    1.095278e+05  8.060475e+04  8.344300e+04  8.348175e+04   56268.500000   \n",
       "50%    1.915815e+05  1.518785e+05  1.551445e+05  1.519020e+05  101521.000000   \n",
       "75%    2.559745e+05  1.940828e+05  1.982740e+05  1.991295e+05  135241.750000   \n",
       "max    1.315187e+06  1.298782e+06  1.209587e+06  1.170936e+06  994445.000000   \n",
       "\n",
       "               5             6              7              8             9     \\\n",
       "count  4.000000e+02  4.000000e+02     400.000000     400.000000  4.000000e+02   \n",
       "mean   1.510835e+05  1.369705e+05   75492.830000   96758.412500  1.455626e+05   \n",
       "std    1.227376e+05  1.103589e+05   63360.033919   78016.704548  1.134116e+05   \n",
       "min    3.800000e+01  5.200000e+01      25.000000      26.000000  3.600000e+01   \n",
       "25%    7.725400e+04  7.054650e+04   38603.000000   48400.750000  7.695975e+04   \n",
       "50%    1.465180e+05  1.343910e+05   72327.000000   91097.500000  1.440605e+05   \n",
       "75%    1.849682e+05  1.659938e+05   91864.250000  120887.500000  1.774155e+05   \n",
       "max    1.336018e+06  1.227283e+06  570124.000000  704976.000000  1.002992e+06   \n",
       "\n",
       "       ...        2090        2091        2092        2093        2094  \\\n",
       "count  ...  400.000000  399.000000  399.000000  399.000000  399.000000   \n",
       "mean   ...    4.158750    9.383459    6.278195    6.929825    6.739348   \n",
       "std    ...    6.398655   12.599387   13.720296    2.761925   15.121193   \n",
       "min    ...    0.000000    0.000000    0.000000    0.000000    0.000000   \n",
       "25%    ...    4.000000    2.000000    1.000000    8.000000    1.000000   \n",
       "50%    ...    4.000000    4.000000    1.000000    8.000000    1.000000   \n",
       "75%    ...    4.000000   16.000000    8.000000    8.000000   16.000000   \n",
       "max    ...  128.000000  128.000000  128.000000   16.000000  128.000000   \n",
       "\n",
       "             2095        2096        2097        2098        2099  \n",
       "count  397.000000  393.000000  392.000000  390.000000  382.000000  \n",
       "mean    62.127204   92.927481    9.854592    9.520513    3.307592  \n",
       "std     61.845846   50.820668    5.987351    6.106875    1.345848  \n",
       "min      0.000000    0.500000    1.000000    1.000000    0.500000  \n",
       "25%      0.000000   32.000000    4.000000    2.000000    4.000000  \n",
       "50%     64.000000  128.000000    8.000000    8.000000    4.000000  \n",
       "75%    128.000000  128.000000   16.000000   16.000000    4.000000  \n",
       "max    128.000000  128.000000   16.000000   16.000000    4.000000  \n",
       "\n",
       "[8 rows x 2100 columns]"
      ]
     },
     "execution_count": 4,
     "metadata": {},
     "output_type": "execute_result"
    }
   ],
   "source": [
    "df.describe()"
   ]
  },
  {
   "cell_type": "code",
   "execution_count": 5,
   "metadata": {
    "scrolled": true
   },
   "outputs": [
    {
     "data": {
      "text/plain": [
       "(400, 2100)"
      ]
     },
     "execution_count": 5,
     "metadata": {},
     "output_type": "execute_result"
    }
   ],
   "source": [
    "df.shape"
   ]
  },
  {
   "cell_type": "code",
   "execution_count": 6,
   "metadata": {},
   "outputs": [],
   "source": [
    "df.fillna(0, inplace=True)"
   ]
  },
  {
   "cell_type": "markdown",
   "metadata": {},
   "source": [
    "## Create utils functions"
   ]
  },
  {
   "cell_type": "code",
   "execution_count": 12,
   "metadata": {},
   "outputs": [],
   "source": [
    "def algorithm_pipeline(X_train_data, X_test_data, y_train_data, y_test_data, \n",
    "                       model, param_grid, cv=10, scoring_fit='neg_mean_squared_error',\n",
    "                       do_probabilities = False):\n",
    "    gs = GridSearchCV(\n",
    "        estimator=model,\n",
    "        param_grid=param_grid, \n",
    "        cv=cv, \n",
    "        n_jobs=-1, \n",
    "        scoring=scoring_fit,\n",
    "        verbose=2\n",
    "    )\n",
    "    fitted_model = gs.fit(X_train_data, y_train_data)\n",
    "    \n",
    "    if do_probabilities:\n",
    "      pred = fitted_model.predict_proba(X_test_data)\n",
    "    else:\n",
    "      pred = fitted_model.predict(X_test_data)\n",
    "    \n",
    "    return fitted_model, pred"
   ]
  },
  {
   "cell_type": "markdown",
   "metadata": {},
   "source": [
    "## Running model"
   ]
  },
  {
   "cell_type": "code",
   "execution_count": 10,
   "metadata": {},
   "outputs": [],
   "source": [
    "x = df.drop([2099], axis=1)\n",
    "y = df[2099]"
   ]
  },
  {
   "cell_type": "code",
   "execution_count": 11,
   "metadata": {},
   "outputs": [],
   "source": [
    "x_train, x_test, y_train, y_test = train_test_split(x, y, test_size = 0.3, random_state = 42, shuffle=False)"
   ]
  },
  {
   "cell_type": "code",
   "execution_count": null,
   "metadata": {},
   "outputs": [],
   "source": [
    "hyper_params = {\n",
    "    'task': 'train',\n",
    "    'boosting_type': 'gbdt',\n",
    "    'objective': 'regression',\n",
    "    'metric': ['l1','l2'],\n",
    "    'learning_rate': 0.005,\n",
    "    'feature_fraction': 0.9,\n",
    "    'bagging_fraction': 0.7,\n",
    "    'bagging_freq': 10,\n",
    "    'verbose': 0,\n",
    "    \"max_depth\": 8,\n",
    "    \"num_leaves\": 128,  \n",
    "    \"max_bin\": 512,\n",
    "    \"num_iterations\": 100000\n",
    "}"
   ]
  },
  {
   "cell_type": "code",
   "execution_count": 30,
   "metadata": {},
   "outputs": [
    {
     "name": "stdout",
     "output_type": "stream",
     "text": [
      "Fitting 5 folds for each of 2916 candidates, totalling 14580 fits\n"
     ]
    },
    {
     "name": "stderr",
     "output_type": "stream",
     "text": [
      "[Parallel(n_jobs=-1)]: Using backend LokyBackend with 12 concurrent workers.\n",
      "[Parallel(n_jobs=-1)]: Done  17 tasks      | elapsed:   14.4s\n",
      "[Parallel(n_jobs=-1)]: Done 138 tasks      | elapsed:   48.4s\n",
      "[Parallel(n_jobs=-1)]: Done 341 tasks      | elapsed:  1.9min\n",
      "[Parallel(n_jobs=-1)]: Done 624 tasks      | elapsed:  3.5min\n",
      "[Parallel(n_jobs=-1)]: Done 989 tasks      | elapsed:  6.1min\n",
      "[Parallel(n_jobs=-1)]: Done 1434 tasks      | elapsed:  8.9min\n",
      "[Parallel(n_jobs=-1)]: Done 1961 tasks      | elapsed: 11.7min\n",
      "[Parallel(n_jobs=-1)]: Done 2568 tasks      | elapsed: 15.8min\n",
      "[Parallel(n_jobs=-1)]: Done 3257 tasks      | elapsed: 19.8min\n",
      "[Parallel(n_jobs=-1)]: Done 4026 tasks      | elapsed: 24.5min\n",
      "[Parallel(n_jobs=-1)]: Done 4877 tasks      | elapsed: 30.3min\n",
      "[Parallel(n_jobs=-1)]: Done 5808 tasks      | elapsed: 35.7min\n",
      "[Parallel(n_jobs=-1)]: Done 6821 tasks      | elapsed: 41.6min\n",
      "[Parallel(n_jobs=-1)]: Done 7914 tasks      | elapsed: 48.7min\n",
      "[Parallel(n_jobs=-1)]: Done 9089 tasks      | elapsed: 56.5min\n",
      "[Parallel(n_jobs=-1)]: Done 10344 tasks      | elapsed: 64.9min\n",
      "[Parallel(n_jobs=-1)]: Done 11681 tasks      | elapsed: 73.9min\n",
      "[Parallel(n_jobs=-1)]: Done 13098 tasks      | elapsed: 83.8min\n",
      "[Parallel(n_jobs=-1)]: Done 14580 out of 14580 | elapsed: 94.1min finished\n"
     ]
    },
    {
     "name": "stdout",
     "output_type": "stream",
     "text": [
      "1.348828357534031\n",
      "{'colsample_bytree': 0.7, 'max_depth': 15, 'min_split_gain': 0.4, 'n_estimators': 400, 'num_leaves': 50, 'reg_alpha': 1.3, 'reg_lambda': 1.1, 'subsample': 0.9, 'subsample_freq': 20}\n"
     ]
    }
   ],
   "source": [
    "model = lgb.LGBMRegressor()\n",
    "param_grid = {\n",
    "    'n_estimators': [400, 700, 1000],\n",
    "    'colsample_bytree': [0.7, 0.8],\n",
    "    'max_depth': [15,20,25],\n",
    "    'num_leaves': [50, 100, 200],\n",
    "    'reg_alpha': [1.1, 1.2, 1.3],\n",
    "    'reg_lambda': [1.1, 1.2, 1.3],\n",
    "    'min_split_gain': [0.3, 0.4],\n",
    "    'subsample': [0.7, 0.8, 0.9],\n",
    "    'subsample_freq': [20]\n",
    "}\n",
    "\n",
    "model, pred = algorithm_pipeline(x_train, x_test, y_train, y_test, model, \n",
    "                                 param_grid, cv=5)\n",
    "\n",
    "# Root Mean Squared Error\n",
    "print(np.sqrt(-model.best_score_))\n",
    "print(model.best_params_)"
   ]
  },
  {
   "cell_type": "markdown",
   "metadata": {},
   "source": [
    "## Training model"
   ]
  },
  {
   "cell_type": "code",
   "execution_count": 32,
   "metadata": {},
   "outputs": [],
   "source": [
    "params = model.best_params_"
   ]
  },
  {
   "cell_type": "code",
   "execution_count": 8,
   "metadata": {},
   "outputs": [],
   "source": [
    "lgbm = lgb.LGBMRegressor(**params)"
   ]
  },
  {
   "cell_type": "code",
   "execution_count": 12,
   "metadata": {},
   "outputs": [
    {
     "data": {
      "text/plain": [
       "LGBMRegressor(colsample_bytree=0.7, max_depth=15, min_split_gain=0.4,\n",
       "              n_estimators=400, num_leaves=50, reg_alpha=1.3, reg_lambda=1.1,\n",
       "              subsample=0.9, subsample_freq=20)"
      ]
     },
     "execution_count": 12,
     "metadata": {},
     "output_type": "execute_result"
    }
   ],
   "source": [
    "lgbm.fit(x_train, y_train)"
   ]
  },
  {
   "cell_type": "code",
   "execution_count": 13,
   "metadata": {},
   "outputs": [
    {
     "data": {
      "text/plain": [
       "0.32807766240852265"
      ]
     },
     "execution_count": 13,
     "metadata": {},
     "output_type": "execute_result"
    }
   ],
   "source": [
    "lgbm.score(x_test, y_test)"
   ]
  },
  {
   "cell_type": "code",
   "execution_count": 14,
   "metadata": {},
   "outputs": [],
   "source": [
    "y_pred=lgbm.predict(x_test)"
   ]
  },
  {
   "cell_type": "code",
   "execution_count": 15,
   "metadata": {},
   "outputs": [
    {
     "data": {
      "text/plain": [
       "array([3.70089533, 3.01017898, 3.71096004, 3.52679865, 2.21336547,\n",
       "       3.29103154, 2.41125123, 3.84998498, 3.59600504, 4.042103  ,\n",
       "       3.42252415, 1.91663703, 3.28613718, 2.95056209, 3.63429433,\n",
       "       1.12320472, 3.34689722, 3.52139401, 3.80740856, 3.68462781,\n",
       "       3.660766  , 3.09088753, 3.64054747, 3.91936691, 1.54946103,\n",
       "       3.19646707, 3.64338506, 3.55761274, 3.19646707, 3.39245548,\n",
       "       3.77334836, 3.00419592, 3.69389125, 2.85978631, 3.57223925,\n",
       "       3.49883446, 3.04856739, 2.5711254 , 3.93049105, 1.74739315,\n",
       "       3.78299392, 3.25454848, 3.15617767, 3.74479696, 2.88601111,\n",
       "       3.7373188 , 3.50867915, 3.17871254, 3.14963046, 3.62707231,\n",
       "       2.69258263, 3.73890679, 2.99150648, 3.85887297, 3.32226032,\n",
       "       3.78165109, 3.81660518, 4.04694874, 3.76729521, 2.03328233,\n",
       "       0.48809734, 3.96506981, 3.34010335, 3.64219238, 2.89204688,\n",
       "       2.19572182, 3.99954106, 3.12367288, 2.87868772, 4.16171656,\n",
       "       3.52065831, 3.78915782, 3.73904829, 3.58719223, 3.41510957,\n",
       "       3.14566451, 3.58259038, 0.44685856, 2.98574486, 3.49909247,\n",
       "       3.4070502 , 3.19646707, 3.2682214 , 2.58879156, 3.14643424,\n",
       "       2.82539504, 2.54637039, 3.48383463, 3.75443911, 3.90233515,\n",
       "       2.91987275, 3.81971033, 1.0694128 , 2.89058167, 2.90533576,\n",
       "       1.44700009, 3.63019524, 2.90636665, 3.26834247, 4.31335961,\n",
       "       2.77121601, 0.65948207, 2.61814065, 3.75194459, 3.69478393,\n",
       "       2.68869913, 3.86115763, 3.94120622, 3.08346446, 4.00852973,\n",
       "       3.55024644, 3.90324022, 3.46855466, 2.90277943, 3.61560009,\n",
       "       3.37054209, 2.38371407, 2.61314774, 1.92216852, 0.4049057 ])"
      ]
     },
     "execution_count": 15,
     "metadata": {},
     "output_type": "execute_result"
    }
   ],
   "source": [
    "y_pred"
   ]
  },
  {
   "cell_type": "code",
   "execution_count": 16,
   "metadata": {},
   "outputs": [],
   "source": [
    "expected = list(y_test)"
   ]
  },
  {
   "cell_type": "code",
   "execution_count": 17,
   "metadata": {},
   "outputs": [],
   "source": [
    "predicted = y_pred"
   ]
  },
  {
   "cell_type": "code",
   "execution_count": 27,
   "metadata": {
    "scrolled": false
   },
   "outputs": [
    {
     "data": {
      "image/png": "[encoded data removed]",
      "text/plain": [
       "<Figure size 432x288 with 1 Axes>"
      ]
     },
     "metadata": {
      "needs_background": "light"
     },
     "output_type": "display_data"
    }
   ],
   "source": [
    "errors = list()\n",
    "for i in range(len(expected)):\n",
    "    # calculate error\n",
    "    err = (expected[i] - predicted[i])**2\n",
    "    # store error\n",
    "    errors.append(err)\n",
    "    # report error\n",
    "\n",
    "# plot errors\n",
    "plt.plot(errors)\n",
    "plt.xticks(ticks=[i for i in range(len(errors))], labels=predicted)\n",
    "plt.xlabel('Predicted Value')\n",
    "plt.ylabel('Mean Squared Error')\n",
    "plt.show()"
   ]
  },
  {
   "cell_type": "code",
   "execution_count": 81,
   "metadata": {},
   "outputs": [
    {
     "data": {
      "image/png": "[encoded data removed]",
      "text/plain": [
       "<Figure size 432x288 with 1 Axes>"
      ]
     },
     "metadata": {
      "needs_background": "light"
     },
     "output_type": "display_data"
    }
   ],
   "source": [
    "# plot errors\n",
    "plt.plot(errors)\n",
    "plt.xticks(ticks=[i for i in range(len(errors))], labels=predicted)\n",
    "plt.xlabel('Predicted Value')\n",
    "plt.ylabel('Mean Squared Error')\n",
    "plt.show()"
   ]
  },
  {
   "cell_type": "code",
   "execution_count": 26,
   "metadata": {},
   "outputs": [
    {
     "name": "stdout",
     "output_type": "stream",
     "text": [
      "MSE:  1.4888562477280876\n",
      "MAE:  0.9222309309940206\n",
      "R2:  0.32807766240852265\n"
     ]
    }
   ],
   "source": [
    "mse = mean_squared_error(expected, predicted, squared=True)\n",
    "mae = mean_absolute_error(expected, predicted)\n",
    "r2 = r2_score(expected, predicted)\n",
    "\n",
    "# report error\n",
    "print(\"MSE: \", mse)\n",
    "print(\"MAE: \", mae)\n",
    "print(\"R2: \", r2)"
   ]
  },
  {
   "cell_type": "raw",
   "metadata": {},
   "source": [
    "multi_regressor = MultiOutputRegressor(lgb.LGBMRegressor(**params))"
   ]
  },
  {
   "cell_type": "code",
   "execution_count": null,
   "metadata": {},
   "outputs": [],
   "source": [
    "multi_regressor"
   ]
  },
  {
   "cell_type": "code",
   "execution_count": null,
   "metadata": {},
   "outputs": [],
   "source": []
  }
 ],
 "metadata": {
  "kernelspec": {
   "display_name": "Python 3",
   "language": "python",
   "name": "python3"
  },
  "language_info": {
   "codemirror_mode": {
    "name": "ipython",
    "version": 3
   },
   "file_extension": ".py",
   "mimetype": "text/x-python",
   "name": "python",
   "nbconvert_exporter": "python",
   "pygments_lexer": "ipython3",
   "version": "3.8.5"
  }
 },
 "nbformat": 4,
 "nbformat_minor": 4
}
